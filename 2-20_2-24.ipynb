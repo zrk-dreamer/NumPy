{
 "cells": [
  {
   "cell_type": "code",
   "execution_count": 1,
   "id": "c7c74d21",
   "metadata": {},
   "outputs": [],
   "source": [
    "import numpy as np"
   ]
  },
  {
   "cell_type": "code",
   "execution_count": 2,
   "id": "fc755e8d",
   "metadata": {},
   "outputs": [],
   "source": [
    "a = np.array([1, 2, 3])"
   ]
  },
  {
   "cell_type": "code",
   "execution_count": 3,
   "id": "0a504add",
   "metadata": {},
   "outputs": [],
   "source": [
    "b = np.array([4, 5, 6])"
   ]
  },
  {
   "cell_type": "code",
   "execution_count": 4,
   "id": "f8a7b4b6",
   "metadata": {},
   "outputs": [
    {
     "data": {
      "text/plain": [
       "array([1, 2, 3, 4, 5, 6])"
      ]
     },
     "execution_count": 4,
     "metadata": {},
     "output_type": "execute_result"
    }
   ],
   "source": [
    "np.r_[a, b]"
   ]
  },
  {
   "cell_type": "code",
   "execution_count": 5,
   "id": "cee436ab",
   "metadata": {},
   "outputs": [
    {
     "data": {
      "text/plain": [
       "array([2. , 5. , 3. , 2. , 3. , 4.2])"
      ]
     },
     "execution_count": 5,
     "metadata": {},
     "output_type": "execute_result"
    }
   ],
   "source": [
    "np.r_[2, 5, 3, np.array([2, 3]), 4.2]"
   ]
  },
  {
   "cell_type": "code",
   "execution_count": 6,
   "id": "e18735bf",
   "metadata": {},
   "outputs": [],
   "source": [
    "c = np.zeros((2, 3))"
   ]
  },
  {
   "cell_type": "code",
   "execution_count": 8,
   "id": "d5d7df92",
   "metadata": {},
   "outputs": [],
   "source": [
    "d = np.ones((3, 3))"
   ]
  },
  {
   "cell_type": "code",
   "execution_count": 9,
   "id": "0fd57e21",
   "metadata": {},
   "outputs": [
    {
     "data": {
      "text/plain": [
       "array([[0., 0., 0.],\n",
       "       [0., 0., 0.],\n",
       "       [1., 1., 1.],\n",
       "       [1., 1., 1.],\n",
       "       [1., 1., 1.]])"
      ]
     },
     "execution_count": 9,
     "metadata": {},
     "output_type": "execute_result"
    }
   ],
   "source": [
    "np.r_[c, d]"
   ]
  },
  {
   "cell_type": "code",
   "execution_count": 10,
   "id": "ceaa85b5",
   "metadata": {},
   "outputs": [],
   "source": [
    "d = np.ones((3, 4))"
   ]
  },
  {
   "cell_type": "code",
   "execution_count": 11,
   "id": "858cc793",
   "metadata": {},
   "outputs": [
    {
     "ename": "ValueError",
     "evalue": "all the input array dimensions for the concatenation axis must match exactly, but along dimension 1, the array at index 0 has size 3 and the array at index 1 has size 4",
     "output_type": "error",
     "traceback": [
      "\u001b[1;31m---------------------------------------------------------------------------\u001b[0m",
      "\u001b[1;31mValueError\u001b[0m                                Traceback (most recent call last)",
      "\u001b[1;32m<ipython-input-11-191a4dea3d69>\u001b[0m in \u001b[0;36m<module>\u001b[1;34m\u001b[0m\n\u001b[1;32m----> 1\u001b[1;33m \u001b[0mnp\u001b[0m\u001b[1;33m.\u001b[0m\u001b[0mr_\u001b[0m\u001b[1;33m[\u001b[0m\u001b[0mc\u001b[0m\u001b[1;33m,\u001b[0m \u001b[0md\u001b[0m\u001b[1;33m]\u001b[0m\u001b[1;33m\u001b[0m\u001b[1;33m\u001b[0m\u001b[0m\n\u001b[0m",
      "\u001b[1;32mD:\\environment\\Anaconda\\lib\\site-packages\\numpy\\lib\\index_tricks.py\u001b[0m in \u001b[0;36m__getitem__\u001b[1;34m(self, key)\u001b[0m\n\u001b[0;32m    405\u001b[0m                 \u001b[0mobjs\u001b[0m\u001b[1;33m[\u001b[0m\u001b[0mk\u001b[0m\u001b[1;33m]\u001b[0m \u001b[1;33m=\u001b[0m \u001b[0mobjs\u001b[0m\u001b[1;33m[\u001b[0m\u001b[0mk\u001b[0m\u001b[1;33m]\u001b[0m\u001b[1;33m.\u001b[0m\u001b[0mastype\u001b[0m\u001b[1;33m(\u001b[0m\u001b[0mfinal_dtype\u001b[0m\u001b[1;33m)\u001b[0m\u001b[1;33m\u001b[0m\u001b[1;33m\u001b[0m\u001b[0m\n\u001b[0;32m    406\u001b[0m \u001b[1;33m\u001b[0m\u001b[0m\n\u001b[1;32m--> 407\u001b[1;33m         \u001b[0mres\u001b[0m \u001b[1;33m=\u001b[0m \u001b[0mself\u001b[0m\u001b[1;33m.\u001b[0m\u001b[0mconcatenate\u001b[0m\u001b[1;33m(\u001b[0m\u001b[0mtuple\u001b[0m\u001b[1;33m(\u001b[0m\u001b[0mobjs\u001b[0m\u001b[1;33m)\u001b[0m\u001b[1;33m,\u001b[0m \u001b[0maxis\u001b[0m\u001b[1;33m=\u001b[0m\u001b[0maxis\u001b[0m\u001b[1;33m)\u001b[0m\u001b[1;33m\u001b[0m\u001b[1;33m\u001b[0m\u001b[0m\n\u001b[0m\u001b[0;32m    408\u001b[0m \u001b[1;33m\u001b[0m\u001b[0m\n\u001b[0;32m    409\u001b[0m         \u001b[1;32mif\u001b[0m \u001b[0mmatrix\u001b[0m\u001b[1;33m:\u001b[0m\u001b[1;33m\u001b[0m\u001b[1;33m\u001b[0m\u001b[0m\n",
      "\u001b[1;32m<__array_function__ internals>\u001b[0m in \u001b[0;36mconcatenate\u001b[1;34m(*args, **kwargs)\u001b[0m\n",
      "\u001b[1;31mValueError\u001b[0m: all the input array dimensions for the concatenation axis must match exactly, but along dimension 1, the array at index 0 has size 3 and the array at index 1 has size 4"
     ]
    }
   ],
   "source": [
    "np.r_[c, d]"
   ]
  },
  {
   "cell_type": "code",
   "execution_count": 12,
   "id": "bb1fe3af",
   "metadata": {},
   "outputs": [],
   "source": [
    "a = np.ones((2, 2))"
   ]
  },
  {
   "cell_type": "code",
   "execution_count": 13,
   "id": "ed03bf6e",
   "metadata": {},
   "outputs": [],
   "source": [
    "b = np.zeros((2, 2))"
   ]
  },
  {
   "cell_type": "code",
   "execution_count": 14,
   "id": "1ac11f8f",
   "metadata": {},
   "outputs": [
    {
     "data": {
      "text/plain": [
       "array([[1., 1., 0., 0.],\n",
       "       [1., 1., 0., 0.]])"
      ]
     },
     "execution_count": 14,
     "metadata": {},
     "output_type": "execute_result"
    }
   ],
   "source": [
    "np.r_[\"1\", a, b]"
   ]
  },
  {
   "cell_type": "code",
   "execution_count": 16,
   "id": "cfef9eb4",
   "metadata": {},
   "outputs": [
    {
     "data": {
      "text/plain": [
       "(2, 4)"
      ]
     },
     "execution_count": 16,
     "metadata": {},
     "output_type": "execute_result"
    }
   ],
   "source": [
    "np.r_[\"1\", a, b].shape"
   ]
  },
  {
   "cell_type": "code",
   "execution_count": 17,
   "id": "f94d8f34",
   "metadata": {},
   "outputs": [
    {
     "data": {
      "text/plain": [
       "array([[1., 1.],\n",
       "       [1., 1.],\n",
       "       [0., 0.],\n",
       "       [0., 0.]])"
      ]
     },
     "execution_count": 17,
     "metadata": {},
     "output_type": "execute_result"
    }
   ],
   "source": [
    "np.r_[\"0\", a, b]"
   ]
  },
  {
   "cell_type": "code",
   "execution_count": 18,
   "id": "d336bd3e",
   "metadata": {},
   "outputs": [
    {
     "data": {
      "text/plain": [
       "(4, 2)"
      ]
     },
     "execution_count": 18,
     "metadata": {},
     "output_type": "execute_result"
    }
   ],
   "source": [
    "np.r_[\"0\", a, b].shape"
   ]
  },
  {
   "cell_type": "code",
   "execution_count": 19,
   "id": "6f602e96",
   "metadata": {},
   "outputs": [
    {
     "data": {
      "text/plain": [
       "(4, 2)"
      ]
     },
     "execution_count": 19,
     "metadata": {},
     "output_type": "execute_result"
    }
   ],
   "source": [
    "np.r_[a, b].shape"
   ]
  },
  {
   "cell_type": "code",
   "execution_count": 20,
   "id": "a0d5b21f",
   "metadata": {},
   "outputs": [],
   "source": [
    "c = np.ones((2, 2, 2))"
   ]
  },
  {
   "cell_type": "code",
   "execution_count": 21,
   "id": "ed3c04b3",
   "metadata": {},
   "outputs": [],
   "source": [
    "d = np.zeros((2, 2, 2))"
   ]
  },
  {
   "cell_type": "code",
   "execution_count": 22,
   "id": "fda76623",
   "metadata": {},
   "outputs": [
    {
     "data": {
      "text/plain": [
       "array([[[1., 1.],\n",
       "        [1., 1.]],\n",
       "\n",
       "       [[1., 1.],\n",
       "        [1., 1.]]])"
      ]
     },
     "execution_count": 22,
     "metadata": {},
     "output_type": "execute_result"
    }
   ],
   "source": [
    "c"
   ]
  },
  {
   "cell_type": "code",
   "execution_count": 23,
   "id": "e24a0da1",
   "metadata": {},
   "outputs": [
    {
     "data": {
      "text/plain": [
       "array([[[0., 0.],\n",
       "        [0., 0.]],\n",
       "\n",
       "       [[0., 0.],\n",
       "        [0., 0.]]])"
      ]
     },
     "execution_count": 23,
     "metadata": {},
     "output_type": "execute_result"
    }
   ],
   "source": [
    "d"
   ]
  },
  {
   "cell_type": "code",
   "execution_count": 24,
   "id": "4a5472b8",
   "metadata": {},
   "outputs": [
    {
     "data": {
      "text/plain": [
       "array([[[1., 1.],\n",
       "        [1., 1.]],\n",
       "\n",
       "       [[1., 1.],\n",
       "        [1., 1.]],\n",
       "\n",
       "       [[0., 0.],\n",
       "        [0., 0.]],\n",
       "\n",
       "       [[0., 0.],\n",
       "        [0., 0.]]])"
      ]
     },
     "execution_count": 24,
     "metadata": {},
     "output_type": "execute_result"
    }
   ],
   "source": [
    "np.r_[\"0\", c, d]"
   ]
  },
  {
   "cell_type": "code",
   "execution_count": 25,
   "id": "2d895cc1",
   "metadata": {},
   "outputs": [
    {
     "data": {
      "text/plain": [
       "array([[[1., 1.],\n",
       "        [1., 1.],\n",
       "        [0., 0.],\n",
       "        [0., 0.]],\n",
       "\n",
       "       [[1., 1.],\n",
       "        [1., 1.],\n",
       "        [0., 0.],\n",
       "        [0., 0.]]])"
      ]
     },
     "execution_count": 25,
     "metadata": {},
     "output_type": "execute_result"
    }
   ],
   "source": [
    "np.r_[\"1\", c, d]"
   ]
  },
  {
   "cell_type": "code",
   "execution_count": 26,
   "id": "128a5118",
   "metadata": {},
   "outputs": [
    {
     "data": {
      "text/plain": [
       "array([[[1., 1., 0., 0.],\n",
       "        [1., 1., 0., 0.]],\n",
       "\n",
       "       [[1., 1., 0., 0.],\n",
       "        [1., 1., 0., 0.]]])"
      ]
     },
     "execution_count": 26,
     "metadata": {},
     "output_type": "execute_result"
    }
   ],
   "source": [
    "np.r_[\"2\", c, d]"
   ]
  },
  {
   "cell_type": "code",
   "execution_count": 27,
   "id": "e2c08f3e",
   "metadata": {},
   "outputs": [
    {
     "data": {
      "text/plain": [
       "(4, 2, 2)"
      ]
     },
     "execution_count": 27,
     "metadata": {},
     "output_type": "execute_result"
    }
   ],
   "source": [
    "np.r_[\"0\", c, d].shape"
   ]
  },
  {
   "cell_type": "code",
   "execution_count": 28,
   "id": "b16d50a9",
   "metadata": {},
   "outputs": [
    {
     "data": {
      "text/plain": [
       "(2, 4, 2)"
      ]
     },
     "execution_count": 28,
     "metadata": {},
     "output_type": "execute_result"
    }
   ],
   "source": [
    "np.r_[\"1\", c, d].shape"
   ]
  },
  {
   "cell_type": "code",
   "execution_count": 29,
   "id": "821c1581",
   "metadata": {},
   "outputs": [
    {
     "data": {
      "text/plain": [
       "(2, 2, 4)"
      ]
     },
     "execution_count": 29,
     "metadata": {},
     "output_type": "execute_result"
    }
   ],
   "source": [
    "np.r_[\"2\", c, d].shape"
   ]
  },
  {
   "cell_type": "code",
   "execution_count": 30,
   "id": "a90dec0c",
   "metadata": {},
   "outputs": [
    {
     "data": {
      "text/plain": [
       "array([[0, 1, 2],\n",
       "       [3, 3, 3]])"
      ]
     },
     "execution_count": 30,
     "metadata": {},
     "output_type": "execute_result"
    }
   ],
   "source": [
    "np.r_[\"0, 2\", [0, 1, 2], [3, 3, 3]]"
   ]
  },
  {
   "cell_type": "code",
   "execution_count": 33,
   "id": "f8c9872b",
   "metadata": {},
   "outputs": [
    {
     "data": {
      "text/plain": [
       "(2, 3)"
      ]
     },
     "execution_count": 33,
     "metadata": {},
     "output_type": "execute_result"
    }
   ],
   "source": [
    "np.r_[\"0, 2\", [0, 1, 2], [3, 3, 3]].shape"
   ]
  },
  {
   "cell_type": "code",
   "execution_count": 34,
   "id": "f1890518",
   "metadata": {},
   "outputs": [
    {
     "data": {
      "text/plain": [
       "array([[[0, 1, 2]],\n",
       "\n",
       "       [[3, 3, 3]]])"
      ]
     },
     "execution_count": 34,
     "metadata": {},
     "output_type": "execute_result"
    }
   ],
   "source": [
    "np.r_[\"0, 3\", [0, 1, 2], [3, 3, 3]]"
   ]
  },
  {
   "cell_type": "code",
   "execution_count": 35,
   "id": "10b4f23b",
   "metadata": {},
   "outputs": [
    {
     "data": {
      "text/plain": [
       "(2, 1, 3)"
      ]
     },
     "execution_count": 35,
     "metadata": {},
     "output_type": "execute_result"
    }
   ],
   "source": [
    "np.r_[\"0, 3\", [0, 1, 2], [3, 3, 3]].shape"
   ]
  },
  {
   "cell_type": "code",
   "execution_count": 36,
   "id": "aba6c648",
   "metadata": {},
   "outputs": [
    {
     "data": {
      "text/plain": [
       "array([[0, 1, 2],\n",
       "       [3, 3, 3]])"
      ]
     },
     "execution_count": 36,
     "metadata": {},
     "output_type": "execute_result"
    }
   ],
   "source": [
    "np.r_[\"0, 2, -1\", [0, 1, 2], [3, 3, 3]]"
   ]
  },
  {
   "cell_type": "code",
   "execution_count": 37,
   "id": "4ccb606d",
   "metadata": {},
   "outputs": [
    {
     "data": {
      "text/plain": [
       "(2, 3)"
      ]
     },
     "execution_count": 37,
     "metadata": {},
     "output_type": "execute_result"
    }
   ],
   "source": [
    "np.r_[\"0, 2, -1\", [0, 1, 2], [3, 3, 3]].shape"
   ]
  },
  {
   "cell_type": "code",
   "execution_count": 38,
   "id": "bf25db22",
   "metadata": {},
   "outputs": [
    {
     "data": {
      "text/plain": [
       "array([[0],\n",
       "       [1],\n",
       "       [2],\n",
       "       [3],\n",
       "       [3],\n",
       "       [3]])"
      ]
     },
     "execution_count": 38,
     "metadata": {},
     "output_type": "execute_result"
    }
   ],
   "source": [
    "np.r_[\"0, 2, 0\", [0, 1, 2], [3, 3, 3]]"
   ]
  },
  {
   "cell_type": "code",
   "execution_count": 41,
   "id": "67af4445",
   "metadata": {},
   "outputs": [
    {
     "data": {
      "text/plain": [
       "(6, 1)"
      ]
     },
     "execution_count": 41,
     "metadata": {},
     "output_type": "execute_result"
    }
   ],
   "source": [
    "np.r_[\"0, 2, 0\", [0, 1, 2], [3, 3, 3]].shape"
   ]
  },
  {
   "cell_type": "code",
   "execution_count": 42,
   "id": "c7f63827",
   "metadata": {},
   "outputs": [
    {
     "data": {
      "text/plain": [
       "array([[[0]],\n",
       "\n",
       "       [[1]],\n",
       "\n",
       "       [[2]],\n",
       "\n",
       "       [[3]],\n",
       "\n",
       "       [[3]],\n",
       "\n",
       "       [[3]]])"
      ]
     },
     "execution_count": 42,
     "metadata": {},
     "output_type": "execute_result"
    }
   ],
   "source": [
    "np.r_[\"0, 3, 0\", [0, 1, 2], [3, 3, 3]]"
   ]
  },
  {
   "cell_type": "code",
   "execution_count": 43,
   "id": "05ef2533",
   "metadata": {},
   "outputs": [
    {
     "data": {
      "text/plain": [
       "(6, 1, 1)"
      ]
     },
     "execution_count": 43,
     "metadata": {},
     "output_type": "execute_result"
    }
   ],
   "source": [
    "np.r_[\"0, 3, 0\", [0, 1, 2], [3, 3, 3]].shape"
   ]
  },
  {
   "cell_type": "code",
   "execution_count": 46,
   "id": "7c99d2df",
   "metadata": {},
   "outputs": [
    {
     "data": {
      "text/plain": [
       "array([0, 1, 2, 3, 4, 5, 6, 7, 8, 9, 0, 1, 2, 3, 4, 5, 6, 7, 8, 9])"
      ]
     },
     "execution_count": 46,
     "metadata": {},
     "output_type": "execute_result"
    }
   ],
   "source": [
    "np.r_[0:10, 0:10]"
   ]
  },
  {
   "cell_type": "code",
   "execution_count": 45,
   "id": "98971d4c",
   "metadata": {},
   "outputs": [
    {
     "data": {
      "text/plain": [
       "array([0, 1, 2, 3, 4, 5, 6, 7, 8, 9])"
      ]
     },
     "execution_count": 45,
     "metadata": {},
     "output_type": "execute_result"
    }
   ],
   "source": [
    "np.r_[:10]"
   ]
  },
  {
   "cell_type": "code",
   "execution_count": 47,
   "id": "172211b7",
   "metadata": {},
   "outputs": [
    {
     "data": {
      "text/plain": [
       "array([0, 2, 4, 6, 8])"
      ]
     },
     "execution_count": 47,
     "metadata": {},
     "output_type": "execute_result"
    }
   ],
   "source": [
    "np.r_[0:10:2]"
   ]
  },
  {
   "cell_type": "code",
   "execution_count": 50,
   "id": "139abeb3",
   "metadata": {},
   "outputs": [
    {
     "data": {
      "text/plain": [
       "array([10,  9,  8,  7,  6,  5,  4,  3,  2,  1])"
      ]
     },
     "execution_count": 50,
     "metadata": {},
     "output_type": "execute_result"
    }
   ],
   "source": [
    "np.r_[10:0:-1]"
   ]
  },
  {
   "cell_type": "code",
   "execution_count": 51,
   "id": "f63408e9",
   "metadata": {},
   "outputs": [
    {
     "data": {
      "text/plain": [
       "array([0, 1, 2, 3, 4, 5, 6, 7, 8, 9, 0, 4, 3, 3])"
      ]
     },
     "execution_count": 51,
     "metadata": {},
     "output_type": "execute_result"
    }
   ],
   "source": [
    "np.r_[0:10, 0, 4, np.array([3, 3])]"
   ]
  },
  {
   "cell_type": "code",
   "execution_count": 52,
   "id": "ea4fe16d",
   "metadata": {},
   "outputs": [],
   "source": [
    "a = np.array([1, 4, 6])"
   ]
  },
  {
   "cell_type": "code",
   "execution_count": 54,
   "id": "0e49b85e",
   "metadata": {},
   "outputs": [],
   "source": [
    "b = np.array([2, 2, 2])"
   ]
  },
  {
   "cell_type": "code",
   "execution_count": 60,
   "id": "ff9ce13b",
   "metadata": {},
   "outputs": [
    {
     "data": {
      "text/plain": [
       "matrix([[1, 4, 6, 2, 2, 2]])"
      ]
     },
     "execution_count": 60,
     "metadata": {},
     "output_type": "execute_result"
    }
   ],
   "source": [
    "np.r_[\"r\", a, b]"
   ]
  },
  {
   "cell_type": "code",
   "execution_count": 58,
   "id": "c48dad1a",
   "metadata": {},
   "outputs": [
    {
     "data": {
      "text/plain": [
       "matrix([[1],\n",
       "        [4],\n",
       "        [6],\n",
       "        [2],\n",
       "        [2],\n",
       "        [2]])"
      ]
     },
     "execution_count": 58,
     "metadata": {},
     "output_type": "execute_result"
    }
   ],
   "source": [
    "np.r_[\"c\", a, b]"
   ]
  },
  {
   "cell_type": "code",
   "execution_count": 61,
   "id": "a70bca96",
   "metadata": {},
   "outputs": [],
   "source": [
    "c = np.ones((4, 5))"
   ]
  },
  {
   "cell_type": "code",
   "execution_count": 62,
   "id": "87f850fe",
   "metadata": {},
   "outputs": [],
   "source": [
    "d = np.zeros((2, 5))"
   ]
  },
  {
   "cell_type": "code",
   "execution_count": 63,
   "id": "892416ef",
   "metadata": {},
   "outputs": [
    {
     "data": {
      "text/plain": [
       "matrix([[1., 1., 1., 1., 1.],\n",
       "        [1., 1., 1., 1., 1.],\n",
       "        [1., 1., 1., 1., 1.],\n",
       "        [1., 1., 1., 1., 1.],\n",
       "        [0., 0., 0., 0., 0.],\n",
       "        [0., 0., 0., 0., 0.]])"
      ]
     },
     "execution_count": 63,
     "metadata": {},
     "output_type": "execute_result"
    }
   ],
   "source": [
    "np.r_[\"r\", c, d]"
   ]
  },
  {
   "cell_type": "code",
   "execution_count": 64,
   "id": "75c2d6b6",
   "metadata": {},
   "outputs": [
    {
     "data": {
      "text/plain": [
       "matrix([[1., 1., 1., 1., 1.],\n",
       "        [1., 1., 1., 1., 1.],\n",
       "        [1., 1., 1., 1., 1.],\n",
       "        [1., 1., 1., 1., 1.],\n",
       "        [0., 0., 0., 0., 0.],\n",
       "        [0., 0., 0., 0., 0.]])"
      ]
     },
     "execution_count": 64,
     "metadata": {},
     "output_type": "execute_result"
    }
   ],
   "source": [
    "np.r_[\"c\", c, d]"
   ]
  },
  {
   "cell_type": "code",
   "execution_count": 65,
   "id": "806cd611",
   "metadata": {},
   "outputs": [],
   "source": [
    "a = np.ones((3, 2))"
   ]
  },
  {
   "cell_type": "code",
   "execution_count": 66,
   "id": "0600176c",
   "metadata": {},
   "outputs": [],
   "source": [
    "b = np.zeros((3, 3))"
   ]
  },
  {
   "cell_type": "code",
   "execution_count": 67,
   "id": "3e7ab75f",
   "metadata": {},
   "outputs": [
    {
     "data": {
      "text/plain": [
       "array([[1., 1.],\n",
       "       [1., 1.],\n",
       "       [1., 1.]])"
      ]
     },
     "execution_count": 67,
     "metadata": {},
     "output_type": "execute_result"
    }
   ],
   "source": [
    "a"
   ]
  },
  {
   "cell_type": "code",
   "execution_count": 68,
   "id": "5585b468",
   "metadata": {},
   "outputs": [
    {
     "data": {
      "text/plain": [
       "array([[0., 0., 0.],\n",
       "       [0., 0., 0.],\n",
       "       [0., 0., 0.]])"
      ]
     },
     "execution_count": 68,
     "metadata": {},
     "output_type": "execute_result"
    }
   ],
   "source": [
    "b"
   ]
  },
  {
   "cell_type": "code",
   "execution_count": 69,
   "id": "75b74e1e",
   "metadata": {},
   "outputs": [
    {
     "data": {
      "text/plain": [
       "array([[1., 1., 0., 0., 0.],\n",
       "       [1., 1., 0., 0., 0.],\n",
       "       [1., 1., 0., 0., 0.]])"
      ]
     },
     "execution_count": 69,
     "metadata": {},
     "output_type": "execute_result"
    }
   ],
   "source": [
    "np.c_[a, b]"
   ]
  },
  {
   "cell_type": "code",
   "execution_count": 70,
   "id": "32104cdc",
   "metadata": {},
   "outputs": [],
   "source": [
    "c = np.zeros(3)"
   ]
  },
  {
   "cell_type": "code",
   "execution_count": 71,
   "id": "8bcf5413",
   "metadata": {},
   "outputs": [
    {
     "data": {
      "text/plain": [
       "array([[1., 1., 0.],\n",
       "       [1., 1., 0.],\n",
       "       [1., 1., 0.]])"
      ]
     },
     "execution_count": 71,
     "metadata": {},
     "output_type": "execute_result"
    }
   ],
   "source": [
    "np.c_[a, c]"
   ]
  },
  {
   "cell_type": "code",
   "execution_count": 73,
   "id": "2d3a4fce",
   "metadata": {},
   "outputs": [
    {
     "data": {
      "text/plain": [
       "(3, 3)"
      ]
     },
     "execution_count": 73,
     "metadata": {},
     "output_type": "execute_result"
    }
   ],
   "source": [
    "np.c_[a, c].shape"
   ]
  },
  {
   "cell_type": "code",
   "execution_count": 74,
   "id": "85c74c37",
   "metadata": {},
   "outputs": [],
   "source": [
    "a = np.random.randn(1200 * 1000).reshape(1200, -1)"
   ]
  },
  {
   "cell_type": "code",
   "execution_count": 75,
   "id": "4b5ec5cf",
   "metadata": {},
   "outputs": [],
   "source": [
    "np.save(\"a\", a)"
   ]
  },
  {
   "cell_type": "code",
   "execution_count": 76,
   "id": "2f01425e",
   "metadata": {},
   "outputs": [
    {
     "data": {
      "text/plain": [
       "array([[-0.69779469, -0.86109287,  0.37256334, ..., -0.88036462,\n",
       "         0.61136712, -1.56962378],\n",
       "       [-0.04161808, -0.37253419, -0.84091332, ...,  0.02412578,\n",
       "        -0.67546294,  0.79060322],\n",
       "       [-0.18873623, -0.43877077, -1.09782279, ..., -0.18238653,\n",
       "        -0.6997955 , -1.48040915],\n",
       "       ...,\n",
       "       [-1.88269416,  0.82347365, -0.17397532, ..., -0.94566963,\n",
       "        -0.16917957,  1.11163337],\n",
       "       [-0.9572196 ,  0.34102369,  0.01699212, ...,  1.88465459,\n",
       "        -0.10233889,  1.71076658],\n",
       "       [ 0.37768663, -0.45106938, -1.35188478, ..., -1.05729885,\n",
       "         0.12665351,  0.78604199]])"
      ]
     },
     "execution_count": 76,
     "metadata": {},
     "output_type": "execute_result"
    }
   ],
   "source": [
    "np.load(\"a.npy\")"
   ]
  },
  {
   "cell_type": "code",
   "execution_count": 77,
   "id": "9c048720",
   "metadata": {},
   "outputs": [],
   "source": [
    "c = np.random.randn(12 * 20 * 40).reshape(12, 20, 40)"
   ]
  },
  {
   "cell_type": "code",
   "execution_count": 78,
   "id": "7932b4e4",
   "metadata": {},
   "outputs": [],
   "source": [
    "np.save(\"c\", c)"
   ]
  },
  {
   "cell_type": "code",
   "execution_count": 79,
   "id": "f19428ab",
   "metadata": {},
   "outputs": [],
   "source": [
    "d = np.load(\"c.npy\")"
   ]
  },
  {
   "cell_type": "code",
   "execution_count": 80,
   "id": "856c888a",
   "metadata": {},
   "outputs": [
    {
     "data": {
      "text/plain": [
       "(12, 20, 40)"
      ]
     },
     "execution_count": 80,
     "metadata": {},
     "output_type": "execute_result"
    }
   ],
   "source": [
    "d.shape"
   ]
  },
  {
   "cell_type": "code",
   "execution_count": 81,
   "id": "53824dd9",
   "metadata": {},
   "outputs": [],
   "source": [
    "a = np.random.randn(3, 4)"
   ]
  },
  {
   "cell_type": "code",
   "execution_count": 82,
   "id": "ec97cca0",
   "metadata": {},
   "outputs": [],
   "source": [
    "np.savetxt(\"sample.txt\", a)"
   ]
  },
  {
   "cell_type": "code",
   "execution_count": 83,
   "id": "6de68aab",
   "metadata": {},
   "outputs": [],
   "source": [
    "b = np.loadtxt(\"sample.txt\")"
   ]
  },
  {
   "cell_type": "code",
   "execution_count": 84,
   "id": "4026252f",
   "metadata": {},
   "outputs": [
    {
     "data": {
      "text/plain": [
       "array([[-0.83748117,  0.79881687, -0.24656905,  0.26125006],\n",
       "       [ 1.99194506,  0.06959999, -1.56438867, -0.07841481],\n",
       "       [-0.45376036,  1.25896247, -0.9691473 , -0.89328229]])"
      ]
     },
     "execution_count": 84,
     "metadata": {},
     "output_type": "execute_result"
    }
   ],
   "source": [
    "a"
   ]
  },
  {
   "cell_type": "code",
   "execution_count": 85,
   "id": "761c50d3",
   "metadata": {},
   "outputs": [
    {
     "data": {
      "text/plain": [
       "array([[-0.83748117,  0.79881687, -0.24656905,  0.26125006],\n",
       "       [ 1.99194506,  0.06959999, -1.56438867, -0.07841481],\n",
       "       [-0.45376036,  1.25896247, -0.9691473 , -0.89328229]])"
      ]
     },
     "execution_count": 85,
     "metadata": {},
     "output_type": "execute_result"
    }
   ],
   "source": [
    "b"
   ]
  },
  {
   "cell_type": "code",
   "execution_count": 86,
   "id": "d40a52ff",
   "metadata": {},
   "outputs": [],
   "source": [
    "np.savetxt(\"sample.csv\", a)"
   ]
  },
  {
   "cell_type": "code",
   "execution_count": 87,
   "id": "580d641c",
   "metadata": {},
   "outputs": [],
   "source": [
    "c = np.loadtxt(\"sample.csv\")"
   ]
  },
  {
   "cell_type": "code",
   "execution_count": 88,
   "id": "6de2d417",
   "metadata": {},
   "outputs": [
    {
     "data": {
      "text/plain": [
       "array([[-0.83748117,  0.79881687, -0.24656905,  0.26125006],\n",
       "       [ 1.99194506,  0.06959999, -1.56438867, -0.07841481],\n",
       "       [-0.45376036,  1.25896247, -0.9691473 , -0.89328229]])"
      ]
     },
     "execution_count": 88,
     "metadata": {},
     "output_type": "execute_result"
    }
   ],
   "source": [
    "c"
   ]
  },
  {
   "cell_type": "code",
   "execution_count": 90,
   "id": "eac16b03",
   "metadata": {},
   "outputs": [],
   "source": [
    "np.savetxt(\"sample2.txt\", a, delimiter = \",\")"
   ]
  },
  {
   "cell_type": "code",
   "execution_count": 91,
   "id": "2d0bcc08",
   "metadata": {},
   "outputs": [
    {
     "ename": "ValueError",
     "evalue": "could not convert string to float: '-8.374811678743432353e-01,7.988168672085838029e-01,-2.465690462764510149e-01,2.612500624351667411e-01'",
     "output_type": "error",
     "traceback": [
      "\u001b[1;31m---------------------------------------------------------------------------\u001b[0m",
      "\u001b[1;31mValueError\u001b[0m                                Traceback (most recent call last)",
      "\u001b[1;32m<ipython-input-91-8511475fdfb5>\u001b[0m in \u001b[0;36m<module>\u001b[1;34m\u001b[0m\n\u001b[1;32m----> 1\u001b[1;33m \u001b[0me\u001b[0m \u001b[1;33m=\u001b[0m \u001b[0mnp\u001b[0m\u001b[1;33m.\u001b[0m\u001b[0mloadtxt\u001b[0m\u001b[1;33m(\u001b[0m\u001b[1;34m\"sample2.txt\"\u001b[0m\u001b[1;33m)\u001b[0m\u001b[1;33m\u001b[0m\u001b[1;33m\u001b[0m\u001b[0m\n\u001b[0m",
      "\u001b[1;32mD:\\environment\\Anaconda\\lib\\site-packages\\numpy\\lib\\npyio.py\u001b[0m in \u001b[0;36mloadtxt\u001b[1;34m(fname, dtype, comments, delimiter, converters, skiprows, usecols, unpack, ndmin, encoding, max_rows, like)\u001b[0m\n\u001b[0;32m   1144\u001b[0m         \u001b[1;31m# converting the data\u001b[0m\u001b[1;33m\u001b[0m\u001b[1;33m\u001b[0m\u001b[1;33m\u001b[0m\u001b[0m\n\u001b[0;32m   1145\u001b[0m         \u001b[0mX\u001b[0m \u001b[1;33m=\u001b[0m \u001b[1;32mNone\u001b[0m\u001b[1;33m\u001b[0m\u001b[1;33m\u001b[0m\u001b[0m\n\u001b[1;32m-> 1146\u001b[1;33m         \u001b[1;32mfor\u001b[0m \u001b[0mx\u001b[0m \u001b[1;32min\u001b[0m \u001b[0mread_data\u001b[0m\u001b[1;33m(\u001b[0m\u001b[0m_loadtxt_chunksize\u001b[0m\u001b[1;33m)\u001b[0m\u001b[1;33m:\u001b[0m\u001b[1;33m\u001b[0m\u001b[1;33m\u001b[0m\u001b[0m\n\u001b[0m\u001b[0;32m   1147\u001b[0m             \u001b[1;32mif\u001b[0m \u001b[0mX\u001b[0m \u001b[1;32mis\u001b[0m \u001b[1;32mNone\u001b[0m\u001b[1;33m:\u001b[0m\u001b[1;33m\u001b[0m\u001b[1;33m\u001b[0m\u001b[0m\n\u001b[0;32m   1148\u001b[0m                 \u001b[0mX\u001b[0m \u001b[1;33m=\u001b[0m \u001b[0mnp\u001b[0m\u001b[1;33m.\u001b[0m\u001b[0marray\u001b[0m\u001b[1;33m(\u001b[0m\u001b[0mx\u001b[0m\u001b[1;33m,\u001b[0m \u001b[0mdtype\u001b[0m\u001b[1;33m)\u001b[0m\u001b[1;33m\u001b[0m\u001b[1;33m\u001b[0m\u001b[0m\n",
      "\u001b[1;32mD:\\environment\\Anaconda\\lib\\site-packages\\numpy\\lib\\npyio.py\u001b[0m in \u001b[0;36mread_data\u001b[1;34m(chunk_size)\u001b[0m\n\u001b[0;32m    995\u001b[0m \u001b[1;33m\u001b[0m\u001b[0m\n\u001b[0;32m    996\u001b[0m             \u001b[1;31m# Convert each value according to its column and store\u001b[0m\u001b[1;33m\u001b[0m\u001b[1;33m\u001b[0m\u001b[1;33m\u001b[0m\u001b[0m\n\u001b[1;32m--> 997\u001b[1;33m             \u001b[0mitems\u001b[0m \u001b[1;33m=\u001b[0m \u001b[1;33m[\u001b[0m\u001b[0mconv\u001b[0m\u001b[1;33m(\u001b[0m\u001b[0mval\u001b[0m\u001b[1;33m)\u001b[0m \u001b[1;32mfor\u001b[0m \u001b[1;33m(\u001b[0m\u001b[0mconv\u001b[0m\u001b[1;33m,\u001b[0m \u001b[0mval\u001b[0m\u001b[1;33m)\u001b[0m \u001b[1;32min\u001b[0m \u001b[0mzip\u001b[0m\u001b[1;33m(\u001b[0m\u001b[0mconverters\u001b[0m\u001b[1;33m,\u001b[0m \u001b[0mvals\u001b[0m\u001b[1;33m)\u001b[0m\u001b[1;33m]\u001b[0m\u001b[1;33m\u001b[0m\u001b[1;33m\u001b[0m\u001b[0m\n\u001b[0m\u001b[0;32m    998\u001b[0m \u001b[1;33m\u001b[0m\u001b[0m\n\u001b[0;32m    999\u001b[0m             \u001b[1;31m# Then pack it according to the dtype's nesting\u001b[0m\u001b[1;33m\u001b[0m\u001b[1;33m\u001b[0m\u001b[1;33m\u001b[0m\u001b[0m\n",
      "\u001b[1;32mD:\\environment\\Anaconda\\lib\\site-packages\\numpy\\lib\\npyio.py\u001b[0m in \u001b[0;36m<listcomp>\u001b[1;34m(.0)\u001b[0m\n\u001b[0;32m    995\u001b[0m \u001b[1;33m\u001b[0m\u001b[0m\n\u001b[0;32m    996\u001b[0m             \u001b[1;31m# Convert each value according to its column and store\u001b[0m\u001b[1;33m\u001b[0m\u001b[1;33m\u001b[0m\u001b[1;33m\u001b[0m\u001b[0m\n\u001b[1;32m--> 997\u001b[1;33m             \u001b[0mitems\u001b[0m \u001b[1;33m=\u001b[0m \u001b[1;33m[\u001b[0m\u001b[0mconv\u001b[0m\u001b[1;33m(\u001b[0m\u001b[0mval\u001b[0m\u001b[1;33m)\u001b[0m \u001b[1;32mfor\u001b[0m \u001b[1;33m(\u001b[0m\u001b[0mconv\u001b[0m\u001b[1;33m,\u001b[0m \u001b[0mval\u001b[0m\u001b[1;33m)\u001b[0m \u001b[1;32min\u001b[0m \u001b[0mzip\u001b[0m\u001b[1;33m(\u001b[0m\u001b[0mconverters\u001b[0m\u001b[1;33m,\u001b[0m \u001b[0mvals\u001b[0m\u001b[1;33m)\u001b[0m\u001b[1;33m]\u001b[0m\u001b[1;33m\u001b[0m\u001b[1;33m\u001b[0m\u001b[0m\n\u001b[0m\u001b[0;32m    998\u001b[0m \u001b[1;33m\u001b[0m\u001b[0m\n\u001b[0;32m    999\u001b[0m             \u001b[1;31m# Then pack it according to the dtype's nesting\u001b[0m\u001b[1;33m\u001b[0m\u001b[1;33m\u001b[0m\u001b[1;33m\u001b[0m\u001b[0m\n",
      "\u001b[1;32mD:\\environment\\Anaconda\\lib\\site-packages\\numpy\\lib\\npyio.py\u001b[0m in \u001b[0;36mfloatconv\u001b[1;34m(x)\u001b[0m\n\u001b[0;32m    732\u001b[0m         \u001b[1;32mif\u001b[0m \u001b[1;34m'0x'\u001b[0m \u001b[1;32min\u001b[0m \u001b[0mx\u001b[0m\u001b[1;33m:\u001b[0m\u001b[1;33m\u001b[0m\u001b[1;33m\u001b[0m\u001b[0m\n\u001b[0;32m    733\u001b[0m             \u001b[1;32mreturn\u001b[0m \u001b[0mfloat\u001b[0m\u001b[1;33m.\u001b[0m\u001b[0mfromhex\u001b[0m\u001b[1;33m(\u001b[0m\u001b[0mx\u001b[0m\u001b[1;33m)\u001b[0m\u001b[1;33m\u001b[0m\u001b[1;33m\u001b[0m\u001b[0m\n\u001b[1;32m--> 734\u001b[1;33m         \u001b[1;32mreturn\u001b[0m \u001b[0mfloat\u001b[0m\u001b[1;33m(\u001b[0m\u001b[0mx\u001b[0m\u001b[1;33m)\u001b[0m\u001b[1;33m\u001b[0m\u001b[1;33m\u001b[0m\u001b[0m\n\u001b[0m\u001b[0;32m    735\u001b[0m \u001b[1;33m\u001b[0m\u001b[0m\n\u001b[0;32m    736\u001b[0m     \u001b[0mtyp\u001b[0m \u001b[1;33m=\u001b[0m \u001b[0mdtype\u001b[0m\u001b[1;33m.\u001b[0m\u001b[0mtype\u001b[0m\u001b[1;33m\u001b[0m\u001b[1;33m\u001b[0m\u001b[0m\n",
      "\u001b[1;31mValueError\u001b[0m: could not convert string to float: '-8.374811678743432353e-01,7.988168672085838029e-01,-2.465690462764510149e-01,2.612500624351667411e-01'"
     ]
    }
   ],
   "source": [
    "e = np.loadtxt(\"sample2.txt\")"
   ]
  },
  {
   "cell_type": "code",
   "execution_count": 92,
   "id": "2718bc36",
   "metadata": {},
   "outputs": [],
   "source": [
    "e = np.loadtxt(\"sample2.txt\", delimiter = \",\")"
   ]
  },
  {
   "cell_type": "code",
   "execution_count": 93,
   "id": "6f6b9ea5",
   "metadata": {},
   "outputs": [
    {
     "data": {
      "text/plain": [
       "array([[-0.83748117,  0.79881687, -0.24656905,  0.26125006],\n",
       "       [ 1.99194506,  0.06959999, -1.56438867, -0.07841481],\n",
       "       [-0.45376036,  1.25896247, -0.9691473 , -0.89328229]])"
      ]
     },
     "execution_count": 93,
     "metadata": {},
     "output_type": "execute_result"
    }
   ],
   "source": [
    "e"
   ]
  },
  {
   "cell_type": "code",
   "execution_count": 94,
   "id": "aa2b6693",
   "metadata": {},
   "outputs": [],
   "source": [
    "np.savetxt(\"sample3.txt\", a, fmt = \"%.2e\")"
   ]
  },
  {
   "cell_type": "code",
   "execution_count": 95,
   "id": "433b0c01",
   "metadata": {},
   "outputs": [],
   "source": [
    "np.savetxt(\"sample4.txt\", a, fmt = \"%.2f\")"
   ]
  },
  {
   "cell_type": "code",
   "execution_count": 98,
   "id": "c989dfe7",
   "metadata": {},
   "outputs": [],
   "source": [
    "np.savetxt(\"sample5.txt\", a, fmt = \"%.3e\", header = \"this is a header\", footer = \"this is a footer\")"
   ]
  },
  {
   "cell_type": "code",
   "execution_count": 99,
   "id": "061f67af",
   "metadata": {},
   "outputs": [],
   "source": [
    "np.savetxt(\"sample6.txt\", a, fmt = \"%.3e\", header = \"this is a header\", footer = \"this is a footer\", comments = \">>>\")"
   ]
  },
  {
   "cell_type": "code",
   "execution_count": 100,
   "id": "36f564fb",
   "metadata": {},
   "outputs": [
    {
     "data": {
      "text/plain": [
       "array([[-0.8375 ,  0.7988 , -0.2466 ,  0.2613 ],\n",
       "       [ 1.992  ,  0.0696 , -1.564  , -0.07841],\n",
       "       [-0.4538 ,  1.259  , -0.9691 , -0.8933 ]])"
      ]
     },
     "execution_count": 100,
     "metadata": {},
     "output_type": "execute_result"
    }
   ],
   "source": [
    "np.loadtxt(\"sample6.txt\", comments = \">>>\")"
   ]
  },
  {
   "cell_type": "code",
   "execution_count": 101,
   "id": "eea16e0f",
   "metadata": {},
   "outputs": [
    {
     "data": {
      "text/plain": [
       "array([[-0.84, -0.25],\n",
       "       [ 1.99, -1.56],\n",
       "       [-0.45, -0.97]])"
      ]
     },
     "execution_count": 101,
     "metadata": {},
     "output_type": "execute_result"
    }
   ],
   "source": [
    "np.loadtxt(\"sample4.txt\", usecols = (0, 2))"
   ]
  },
  {
   "cell_type": "code",
   "execution_count": 103,
   "id": "f43b382f",
   "metadata": {},
   "outputs": [
    {
     "data": {
      "text/plain": [
       "array([[ 1.99,  0.07, -1.56, -0.08],\n",
       "       [-0.45,  1.26, -0.97, -0.89]])"
      ]
     },
     "execution_count": 103,
     "metadata": {},
     "output_type": "execute_result"
    }
   ],
   "source": [
    "np.loadtxt(\"sample4.txt\", skiprows = 1)"
   ]
  },
  {
   "cell_type": "code",
   "execution_count": 106,
   "id": "2e1be47f",
   "metadata": {},
   "outputs": [
    {
     "data": {
      "text/plain": [
       "array([(18, b'female', 154.1, b'No'), (21, b'male', 172.3, b'Yes'),\n",
       "       (22, b'female', 160.8, b'Yes'), (23, b'male', 180.1, b'Yes'),\n",
       "       (25, b'female', 145. , b'No')],\n",
       "      dtype=[('col1', '<i8'), ('col2', 'S10'), ('col3', '<f8'), ('col4', 'S10')])"
      ]
     },
     "execution_count": 106,
     "metadata": {},
     "output_type": "execute_result"
    }
   ],
   "source": [
    "np.loadtxt(\"foo.csv\", dtype = [(\"col1\", \"i8\"), (\"col2\", \"S10\"), (\"col3\", \"f8\"), (\"col4\", \"S10\")])"
   ]
  },
  {
   "cell_type": "code",
   "execution_count": 107,
   "id": "d799afa1",
   "metadata": {},
   "outputs": [
    {
     "data": {
      "text/plain": [
       "[array([18, 21, 22, 23, 25], dtype=int64),\n",
       " array([b'female', b'male', b'female', b'male', b'female'], dtype='|S10'),\n",
       " array([154.1, 172.3, 160.8, 180.1, 145. ]),\n",
       " array([b'No', b'Yes', b'Yes', b'Yes', b'No'], dtype='|S10')]"
      ]
     },
     "execution_count": 107,
     "metadata": {},
     "output_type": "execute_result"
    }
   ],
   "source": [
    "np.loadtxt(\"foo.csv\", dtype = [(\"col1\", \"i8\"), (\"col2\", \"S10\"), (\"col3\", \"f8\"), (\"col4\", \"S10\")], unpack = True)"
   ]
  },
  {
   "cell_type": "code",
   "execution_count": 108,
   "id": "27eef687",
   "metadata": {},
   "outputs": [],
   "source": [
    "age, gender, tall, driver_license = np.loadtxt(\"foo.csv\", dtype = [(\"col1\", \"i8\"), (\"col2\", \"S10\"), (\"col3\", \"f8\"), (\"col4\", \"S10\")], unpack = True)"
   ]
  },
  {
   "cell_type": "code",
   "execution_count": 109,
   "id": "ade4645a",
   "metadata": {},
   "outputs": [
    {
     "data": {
      "text/plain": [
       "array([18, 21, 22, 23, 25], dtype=int64)"
      ]
     },
     "execution_count": 109,
     "metadata": {},
     "output_type": "execute_result"
    }
   ],
   "source": [
    "age"
   ]
  },
  {
   "cell_type": "code",
   "execution_count": 110,
   "id": "3c1af697",
   "metadata": {},
   "outputs": [
    {
     "data": {
      "text/plain": [
       "array([b'female', b'male', b'female', b'male', b'female'], dtype='|S10')"
      ]
     },
     "execution_count": 110,
     "metadata": {},
     "output_type": "execute_result"
    }
   ],
   "source": [
    "gender"
   ]
  },
  {
   "cell_type": "code",
   "execution_count": 111,
   "id": "ccefbf28",
   "metadata": {},
   "outputs": [
    {
     "data": {
      "text/plain": [
       "array([154.1, 172.3, 160.8, 180.1, 145. ])"
      ]
     },
     "execution_count": 111,
     "metadata": {},
     "output_type": "execute_result"
    }
   ],
   "source": [
    "tall"
   ]
  },
  {
   "cell_type": "code",
   "execution_count": 112,
   "id": "30b28f09",
   "metadata": {},
   "outputs": [
    {
     "data": {
      "text/plain": [
       "array([b'No', b'Yes', b'Yes', b'Yes', b'No'], dtype='|S10')"
      ]
     },
     "execution_count": 112,
     "metadata": {},
     "output_type": "execute_result"
    }
   ],
   "source": [
    "driver_license"
   ]
  },
  {
   "cell_type": "code",
   "execution_count": 114,
   "id": "c71b3325",
   "metadata": {},
   "outputs": [],
   "source": [
    "def driver_license(str):\n",
    "    if str == b\"Yes\": return 1\n",
    "    else: return -1"
   ]
  },
  {
   "cell_type": "code",
   "execution_count": 115,
   "id": "9581038b",
   "metadata": {},
   "outputs": [],
   "source": [
    "def gender(str):\n",
    "    if str == b\"male\": return 1\n",
    "    else: return -1"
   ]
  },
  {
   "cell_type": "code",
   "execution_count": 116,
   "id": "a904df0d",
   "metadata": {},
   "outputs": [
    {
     "data": {
      "text/plain": [
       "array([[ 18. ,  -1. , 154.1,  -1. ],\n",
       "       [ 21. ,   1. , 172.3,   1. ],\n",
       "       [ 22. ,  -1. , 160.8,   1. ],\n",
       "       [ 23. ,   1. , 180.1,   1. ],\n",
       "       [ 25. ,  -1. , 145. ,  -1. ]])"
      ]
     },
     "execution_count": 116,
     "metadata": {},
     "output_type": "execute_result"
    }
   ],
   "source": [
    "np.loadtxt(\"foo.csv\", converters = {1:gender, 3:driver_license})"
   ]
  },
  {
   "cell_type": "code",
   "execution_count": 117,
   "id": "32a27233",
   "metadata": {},
   "outputs": [
    {
     "data": {
      "text/plain": [
       "0.9675045842647497"
      ]
     },
     "execution_count": 117,
     "metadata": {},
     "output_type": "execute_result"
    }
   ],
   "source": [
    "np.random.rand()"
   ]
  },
  {
   "cell_type": "code",
   "execution_count": 118,
   "id": "9baa6ae9",
   "metadata": {},
   "outputs": [
    {
     "data": {
      "text/plain": [
       "4"
      ]
     },
     "execution_count": 118,
     "metadata": {},
     "output_type": "execute_result"
    }
   ],
   "source": [
    "np.random.randint(10)"
   ]
  },
  {
   "cell_type": "code",
   "execution_count": 119,
   "id": "1acf3d6f",
   "metadata": {},
   "outputs": [
    {
     "data": {
      "text/plain": [
       "array([[0.5477751 , 0.45711815, 0.12704176],\n",
       "       [0.61327852, 0.02288831, 0.32635937]])"
      ]
     },
     "execution_count": 119,
     "metadata": {},
     "output_type": "execute_result"
    }
   ],
   "source": [
    "np.random.rand(2, 3)"
   ]
  },
  {
   "cell_type": "code",
   "execution_count": 120,
   "id": "2f065e36",
   "metadata": {},
   "outputs": [
    {
     "data": {
      "text/plain": [
       "array([[2, 7, 3],\n",
       "       [1, 4, 9]])"
      ]
     },
     "execution_count": 120,
     "metadata": {},
     "output_type": "execute_result"
    }
   ],
   "source": [
    "np.random.randint(10, size = (2, 3))"
   ]
  },
  {
   "cell_type": "code",
   "execution_count": 121,
   "id": "85833fde",
   "metadata": {},
   "outputs": [
    {
     "data": {
      "text/plain": [
       "array([6, 7, 9, 8, 7, 7, 8, 8, 6, 6])"
      ]
     },
     "execution_count": 121,
     "metadata": {},
     "output_type": "execute_result"
    }
   ],
   "source": [
    "np.random.randint(5, 10, size = 10)"
   ]
  },
  {
   "cell_type": "code",
   "execution_count": 122,
   "id": "e6a50710",
   "metadata": {},
   "outputs": [
    {
     "data": {
      "text/plain": [
       "array([8.26696558, 5.3504221 , 6.85603441, 6.7356786 , 7.49092601,\n",
       "       9.52706074, 7.10043698, 5.55154152, 7.10994967, 7.72909193])"
      ]
     },
     "execution_count": 122,
     "metadata": {},
     "output_type": "execute_result"
    }
   ],
   "source": [
    "(10 - 5) * np.random.rand(10) + 5"
   ]
  },
  {
   "cell_type": "code",
   "execution_count": 138,
   "id": "6af4cc6c",
   "metadata": {},
   "outputs": [],
   "source": [
    "np.random.seed(21)"
   ]
  },
  {
   "cell_type": "code",
   "execution_count": 143,
   "id": "6fd32ee2",
   "metadata": {},
   "outputs": [
    {
     "data": {
      "text/plain": [
       "0.20592276526743902"
      ]
     },
     "execution_count": 143,
     "metadata": {},
     "output_type": "execute_result"
    }
   ],
   "source": [
    "np.random.rand()"
   ]
  },
  {
   "cell_type": "code",
   "execution_count": 144,
   "id": "644bf2cb",
   "metadata": {},
   "outputs": [
    {
     "data": {
      "text/plain": [
       "0.0507732566953768"
      ]
     },
     "execution_count": 144,
     "metadata": {},
     "output_type": "execute_result"
    }
   ],
   "source": [
    "np.random.rand()"
   ]
  },
  {
   "cell_type": "code",
   "execution_count": 145,
   "id": "306bc717",
   "metadata": {},
   "outputs": [],
   "source": [
    "np.random.seed(10)"
   ]
  },
  {
   "cell_type": "code",
   "execution_count": 146,
   "id": "c0583fb9",
   "metadata": {},
   "outputs": [
    {
     "data": {
      "text/plain": [
       "array([0.77132064, 0.02075195, 0.63364823, 0.74880388, 0.49850701,\n",
       "       0.22479665, 0.19806286, 0.76053071, 0.16911084, 0.08833981,\n",
       "       0.68535982, 0.95339335, 0.00394827, 0.51219226, 0.81262096,\n",
       "       0.61252607, 0.72175532, 0.29187607, 0.91777412, 0.71457578])"
      ]
     },
     "execution_count": 146,
     "metadata": {},
     "output_type": "execute_result"
    }
   ],
   "source": [
    "np.random.rand(20)"
   ]
  },
  {
   "cell_type": "code",
   "execution_count": 147,
   "id": "0a0e10cc",
   "metadata": {},
   "outputs": [],
   "source": [
    "np.random.seed(23)"
   ]
  },
  {
   "cell_type": "code",
   "execution_count": 148,
   "id": "712b173d",
   "metadata": {},
   "outputs": [
    {
     "data": {
      "text/plain": [
       "array([0.51729788, 0.9469626 , 0.76545976, 0.28239584, 0.22104536,\n",
       "       0.68622209, 0.1671392 , 0.39244247, 0.61805235, 0.41193009,\n",
       "       0.00246488, 0.88403218, 0.88494754, 0.30040969, 0.58958187,\n",
       "       0.97842692, 0.84509382, 0.06507544, 0.29474446, 0.28793444])"
      ]
     },
     "execution_count": 148,
     "metadata": {},
     "output_type": "execute_result"
    }
   ],
   "source": [
    "np.random.rand(20)"
   ]
  },
  {
   "cell_type": "code",
   "execution_count": 149,
   "id": "c4f02423",
   "metadata": {},
   "outputs": [],
   "source": [
    "np.random.seed(10)"
   ]
  },
  {
   "cell_type": "code",
   "execution_count": 150,
   "id": "8c075a20",
   "metadata": {},
   "outputs": [
    {
     "data": {
      "text/plain": [
       "array([0.77132064, 0.02075195, 0.63364823, 0.74880388, 0.49850701,\n",
       "       0.22479665, 0.19806286, 0.76053071, 0.16911084, 0.08833981,\n",
       "       0.68535982, 0.95339335, 0.00394827, 0.51219226, 0.81262096,\n",
       "       0.61252607, 0.72175532, 0.29187607, 0.91777412, 0.71457578])"
      ]
     },
     "execution_count": 150,
     "metadata": {},
     "output_type": "execute_result"
    }
   ],
   "source": [
    "np.random.rand(20)"
   ]
  },
  {
   "cell_type": "code",
   "execution_count": 151,
   "id": "e63ed910",
   "metadata": {},
   "outputs": [],
   "source": [
    "np.random.seed(23)"
   ]
  },
  {
   "cell_type": "code",
   "execution_count": 152,
   "id": "a37e5021",
   "metadata": {},
   "outputs": [
    {
     "data": {
      "text/plain": [
       "array([0.51729788, 0.9469626 , 0.76545976, 0.28239584, 0.22104536,\n",
       "       0.68622209, 0.1671392 , 0.39244247, 0.61805235, 0.41193009,\n",
       "       0.00246488, 0.88403218, 0.88494754, 0.30040969, 0.58958187,\n",
       "       0.97842692, 0.84509382, 0.06507544, 0.29474446, 0.28793444])"
      ]
     },
     "execution_count": 152,
     "metadata": {},
     "output_type": "execute_result"
    }
   ],
   "source": [
    "np.random.rand(20)"
   ]
  },
  {
   "cell_type": "code",
   "execution_count": 153,
   "id": "e74a1ff1",
   "metadata": {},
   "outputs": [],
   "source": [
    "a = [\"Python\", \"Ruby\", \"Java\", \"JavaScript\", \"PHP\"]"
   ]
  },
  {
   "cell_type": "code",
   "execution_count": 156,
   "id": "e4055b4a",
   "metadata": {},
   "outputs": [
    {
     "data": {
      "text/plain": [
       "array(['PHP', 'Java', 'Ruby'], dtype='<U10')"
      ]
     },
     "execution_count": 156,
     "metadata": {},
     "output_type": "execute_result"
    }
   ],
   "source": [
    "np.random.choice(a, 3)"
   ]
  },
  {
   "cell_type": "code",
   "execution_count": 163,
   "id": "7666e8f7",
   "metadata": {},
   "outputs": [
    {
     "data": {
      "text/plain": [
       "5"
      ]
     },
     "execution_count": 163,
     "metadata": {},
     "output_type": "execute_result"
    }
   ],
   "source": [
    "np.random.choice(a, 5, replace = False).size"
   ]
  },
  {
   "cell_type": "code",
   "execution_count": 167,
   "id": "1383ba28",
   "metadata": {},
   "outputs": [],
   "source": [
    "a = np.random.choice(a, 20, p = [0.8, 0.05, 0.05, 0.05, 0.05])"
   ]
  },
  {
   "cell_type": "code",
   "execution_count": 174,
   "id": "ba72361e",
   "metadata": {},
   "outputs": [
    {
     "data": {
      "text/plain": [
       "0.7"
      ]
     },
     "execution_count": 174,
     "metadata": {},
     "output_type": "execute_result"
    }
   ],
   "source": [
    "np.where(a == \"Python\")[0].size / 20"
   ]
  },
  {
   "cell_type": "code",
   "execution_count": 176,
   "id": "99b2461f",
   "metadata": {},
   "outputs": [
    {
     "data": {
      "text/plain": [
       "array([0, 0, 2, 2, 2, 2, 0, 1, 1, 0])"
      ]
     },
     "execution_count": 176,
     "metadata": {},
     "output_type": "execute_result"
    }
   ],
   "source": [
    "np.random.choice(5, 10)"
   ]
  },
  {
   "cell_type": "code",
   "execution_count": 177,
   "id": "51a79f85",
   "metadata": {},
   "outputs": [],
   "source": [
    "a = np.arange(10)"
   ]
  },
  {
   "cell_type": "code",
   "execution_count": 178,
   "id": "8f72e230",
   "metadata": {},
   "outputs": [
    {
     "data": {
      "text/plain": [
       "array([0, 1, 2, 3, 4, 5, 6, 7, 8, 9])"
      ]
     },
     "execution_count": 178,
     "metadata": {},
     "output_type": "execute_result"
    }
   ],
   "source": [
    "a"
   ]
  },
  {
   "cell_type": "code",
   "execution_count": 179,
   "id": "d359089f",
   "metadata": {},
   "outputs": [],
   "source": [
    "np.random.shuffle(a)"
   ]
  },
  {
   "cell_type": "code",
   "execution_count": 180,
   "id": "1e34ff1d",
   "metadata": {},
   "outputs": [
    {
     "data": {
      "text/plain": [
       "array([0, 8, 5, 1, 3, 2, 9, 7, 4, 6])"
      ]
     },
     "execution_count": 180,
     "metadata": {},
     "output_type": "execute_result"
    }
   ],
   "source": [
    "a"
   ]
  },
  {
   "cell_type": "code",
   "execution_count": 181,
   "id": "ea366a5b",
   "metadata": {},
   "outputs": [
    {
     "data": {
      "text/plain": [
       "array([0, 8, 5, 1, 3, 2, 9, 7, 4, 6])"
      ]
     },
     "execution_count": 181,
     "metadata": {},
     "output_type": "execute_result"
    }
   ],
   "source": [
    "a"
   ]
  },
  {
   "cell_type": "code",
   "execution_count": null,
   "id": "f62e92dc",
   "metadata": {},
   "outputs": [],
   "source": []
  },
  {
   "cell_type": "code",
   "execution_count": null,
   "id": "f4ffda42",
   "metadata": {},
   "outputs": [],
   "source": []
  },
  {
   "cell_type": "code",
   "execution_count": null,
   "id": "ca0afc49",
   "metadata": {},
   "outputs": [],
   "source": []
  },
  {
   "cell_type": "code",
   "execution_count": null,
   "id": "69450570",
   "metadata": {},
   "outputs": [],
   "source": []
  },
  {
   "cell_type": "code",
   "execution_count": null,
   "id": "d5fd9cd5",
   "metadata": {},
   "outputs": [],
   "source": []
  },
  {
   "cell_type": "code",
   "execution_count": null,
   "id": "19795f69",
   "metadata": {},
   "outputs": [],
   "source": []
  }
 ],
 "metadata": {
  "kernelspec": {
   "display_name": "Python 3",
   "language": "python",
   "name": "python3"
  },
  "language_info": {
   "codemirror_mode": {
    "name": "ipython",
    "version": 3
   },
   "file_extension": ".py",
   "mimetype": "text/x-python",
   "name": "python",
   "nbconvert_exporter": "python",
   "pygments_lexer": "ipython3",
   "version": "3.8.8"
  }
 },
 "nbformat": 4,
 "nbformat_minor": 5
}
