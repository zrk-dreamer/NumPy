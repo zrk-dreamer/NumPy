{
 "cells": [
  {
   "cell_type": "code",
   "execution_count": 1,
   "id": "60345a02",
   "metadata": {},
   "outputs": [],
   "source": [
    "import numpy as np"
   ]
  },
  {
   "cell_type": "code",
   "execution_count": 2,
   "id": "3b8e3acb",
   "metadata": {},
   "outputs": [],
   "source": [
    "a = np.array([0, 1, 2, 3, 4])"
   ]
  },
  {
   "cell_type": "code",
   "execution_count": 3,
   "id": "03f789ec",
   "metadata": {},
   "outputs": [],
   "source": [
    "b = np.array([2, 4, 6, 8, 10])"
   ]
  },
  {
   "cell_type": "code",
   "execution_count": 4,
   "id": "de10d89c",
   "metadata": {},
   "outputs": [
    {
     "data": {
      "text/plain": [
       "array([4, 5, 6, 7, 8])"
      ]
     },
     "execution_count": 4,
     "metadata": {},
     "output_type": "execute_result"
    }
   ],
   "source": [
    "a + 4"
   ]
  },
  {
   "cell_type": "code",
   "execution_count": 5,
   "id": "4005a6de",
   "metadata": {},
   "outputs": [
    {
     "data": {
      "text/plain": [
       "array([ 2,  5,  8, 11, 14])"
      ]
     },
     "execution_count": 5,
     "metadata": {},
     "output_type": "execute_result"
    }
   ],
   "source": [
    "np.add(a, b)"
   ]
  },
  {
   "cell_type": "code",
   "execution_count": 6,
   "id": "b299e8cc",
   "metadata": {},
   "outputs": [
    {
     "data": {
      "text/plain": [
       "array([ 2,  5,  8, 11, 14])"
      ]
     },
     "execution_count": 6,
     "metadata": {},
     "output_type": "execute_result"
    }
   ],
   "source": [
    "a + b"
   ]
  },
  {
   "cell_type": "code",
   "execution_count": 7,
   "id": "fc7499d7",
   "metadata": {},
   "outputs": [
    {
     "data": {
      "text/plain": [
       "array([4, 5, 6, 7, 8])"
      ]
     },
     "execution_count": 7,
     "metadata": {},
     "output_type": "execute_result"
    }
   ],
   "source": [
    "np.add(a, 4)"
   ]
  },
  {
   "cell_type": "code",
   "execution_count": 8,
   "id": "b4011d56",
   "metadata": {},
   "outputs": [
    {
     "data": {
      "text/plain": [
       "array([-2, -3, -4, -5, -6])"
      ]
     },
     "execution_count": 8,
     "metadata": {},
     "output_type": "execute_result"
    }
   ],
   "source": [
    "a - b"
   ]
  },
  {
   "cell_type": "code",
   "execution_count": 9,
   "id": "b1f0d5e2",
   "metadata": {},
   "outputs": [
    {
     "data": {
      "text/plain": [
       "array([2, 3, 4, 5, 6])"
      ]
     },
     "execution_count": 9,
     "metadata": {},
     "output_type": "execute_result"
    }
   ],
   "source": [
    "b - a"
   ]
  },
  {
   "cell_type": "code",
   "execution_count": 10,
   "id": "8759432b",
   "metadata": {},
   "outputs": [
    {
     "data": {
      "text/plain": [
       "array([-4, -3, -2, -1,  0])"
      ]
     },
     "execution_count": 10,
     "metadata": {},
     "output_type": "execute_result"
    }
   ],
   "source": [
    "a - 4"
   ]
  },
  {
   "cell_type": "code",
   "execution_count": 11,
   "id": "87f7cb72",
   "metadata": {},
   "outputs": [
    {
     "data": {
      "text/plain": [
       "array([-2, -3, -4, -5, -6])"
      ]
     },
     "execution_count": 11,
     "metadata": {},
     "output_type": "execute_result"
    }
   ],
   "source": [
    "np.subtract(a, b)"
   ]
  },
  {
   "cell_type": "code",
   "execution_count": 12,
   "id": "c406f1fd",
   "metadata": {},
   "outputs": [
    {
     "data": {
      "text/plain": [
       "array([2, 3, 4, 5, 6])"
      ]
     },
     "execution_count": 12,
     "metadata": {},
     "output_type": "execute_result"
    }
   ],
   "source": [
    "np.subtract(b, a)"
   ]
  },
  {
   "cell_type": "code",
   "execution_count": 13,
   "id": "6bce4420",
   "metadata": {},
   "outputs": [
    {
     "data": {
      "text/plain": [
       "array([-4, -3, -2, -1,  0])"
      ]
     },
     "execution_count": 13,
     "metadata": {},
     "output_type": "execute_result"
    }
   ],
   "source": [
    "np.subtract(a, 4)"
   ]
  },
  {
   "cell_type": "code",
   "execution_count": 14,
   "id": "c533af11",
   "metadata": {},
   "outputs": [
    {
     "data": {
      "text/plain": [
       "array([ 0,  4, 12, 24, 40])"
      ]
     },
     "execution_count": 14,
     "metadata": {},
     "output_type": "execute_result"
    }
   ],
   "source": [
    "a * b"
   ]
  },
  {
   "cell_type": "code",
   "execution_count": 15,
   "id": "c14a2ed9",
   "metadata": {},
   "outputs": [
    {
     "data": {
      "text/plain": [
       "array([0, 2, 4, 6, 8])"
      ]
     },
     "execution_count": 15,
     "metadata": {},
     "output_type": "execute_result"
    }
   ],
   "source": [
    "a * 2"
   ]
  },
  {
   "cell_type": "code",
   "execution_count": 16,
   "id": "ffbda7df",
   "metadata": {},
   "outputs": [
    {
     "data": {
      "text/plain": [
       "array([ 0,  4, 12, 24, 40])"
      ]
     },
     "execution_count": 16,
     "metadata": {},
     "output_type": "execute_result"
    }
   ],
   "source": [
    "np.multiply(a, b)"
   ]
  },
  {
   "cell_type": "code",
   "execution_count": 17,
   "id": "934c7e37",
   "metadata": {},
   "outputs": [
    {
     "data": {
      "text/plain": [
       "array([0, 2, 4, 6, 8])"
      ]
     },
     "execution_count": 17,
     "metadata": {},
     "output_type": "execute_result"
    }
   ],
   "source": [
    "np.multiply(a, 2)"
   ]
  },
  {
   "cell_type": "code",
   "execution_count": 18,
   "id": "df46dd87",
   "metadata": {},
   "outputs": [
    {
     "name": "stderr",
     "output_type": "stream",
     "text": [
      "<ipython-input-18-86f14ff2de04>:1: RuntimeWarning: divide by zero encountered in true_divide\n",
      "  b / a\n"
     ]
    },
    {
     "data": {
      "text/plain": [
       "array([       inf, 4.        , 3.        , 2.66666667, 2.5       ])"
      ]
     },
     "execution_count": 18,
     "metadata": {},
     "output_type": "execute_result"
    }
   ],
   "source": [
    "b / a"
   ]
  },
  {
   "cell_type": "code",
   "execution_count": 19,
   "id": "462a6d2a",
   "metadata": {},
   "outputs": [
    {
     "data": {
      "text/plain": [
       "array([1., 2., 3., 4., 5.])"
      ]
     },
     "execution_count": 19,
     "metadata": {},
     "output_type": "execute_result"
    }
   ],
   "source": [
    "b / 2"
   ]
  },
  {
   "cell_type": "code",
   "execution_count": 20,
   "id": "8b261e4e",
   "metadata": {},
   "outputs": [
    {
     "data": {
      "text/plain": [
       "array([0.66666667, 1.33333333, 2.        , 2.66666667, 3.33333333])"
      ]
     },
     "execution_count": 20,
     "metadata": {},
     "output_type": "execute_result"
    }
   ],
   "source": [
    "b / 3"
   ]
  },
  {
   "cell_type": "code",
   "execution_count": 21,
   "id": "e6ca02a6",
   "metadata": {},
   "outputs": [
    {
     "name": "stderr",
     "output_type": "stream",
     "text": [
      "<ipython-input-21-3b08f6feaa81>:1: RuntimeWarning: divide by zero encountered in true_divide\n",
      "  np.divide(b, a)\n"
     ]
    },
    {
     "data": {
      "text/plain": [
       "array([       inf, 4.        , 3.        , 2.66666667, 2.5       ])"
      ]
     },
     "execution_count": 21,
     "metadata": {},
     "output_type": "execute_result"
    }
   ],
   "source": [
    "np.divide(b, a)"
   ]
  },
  {
   "cell_type": "code",
   "execution_count": 22,
   "id": "ed1494f2",
   "metadata": {},
   "outputs": [
    {
     "data": {
      "text/plain": [
       "array([1., 2., 3., 4., 5.])"
      ]
     },
     "execution_count": 22,
     "metadata": {},
     "output_type": "execute_result"
    }
   ],
   "source": [
    "np.divide(b, 2)"
   ]
  },
  {
   "cell_type": "code",
   "execution_count": 23,
   "id": "00978bec",
   "metadata": {},
   "outputs": [
    {
     "data": {
      "text/plain": [
       "array([0, 1, 2, 2, 3], dtype=int32)"
      ]
     },
     "execution_count": 23,
     "metadata": {},
     "output_type": "execute_result"
    }
   ],
   "source": [
    "b // 3"
   ]
  },
  {
   "cell_type": "code",
   "execution_count": 24,
   "id": "064f8678",
   "metadata": {},
   "outputs": [
    {
     "data": {
      "text/plain": [
       "array([2, 1, 0, 2, 1], dtype=int32)"
      ]
     },
     "execution_count": 24,
     "metadata": {},
     "output_type": "execute_result"
    }
   ],
   "source": [
    "b % 3"
   ]
  },
  {
   "cell_type": "code",
   "execution_count": 25,
   "id": "416a0ad2",
   "metadata": {},
   "outputs": [
    {
     "data": {
      "text/plain": [
       "array([2, 1, 0, 2, 1], dtype=int32)"
      ]
     },
     "execution_count": 25,
     "metadata": {},
     "output_type": "execute_result"
    }
   ],
   "source": [
    "np.mod(b, 3)"
   ]
  },
  {
   "cell_type": "code",
   "execution_count": 26,
   "id": "6de9c3e0",
   "metadata": {},
   "outputs": [
    {
     "data": {
      "text/plain": [
       "8"
      ]
     },
     "execution_count": 26,
     "metadata": {},
     "output_type": "execute_result"
    }
   ],
   "source": [
    "np.power(2, 3)"
   ]
  },
  {
   "cell_type": "code",
   "execution_count": 27,
   "id": "aee01ddf",
   "metadata": {},
   "outputs": [
    {
     "data": {
      "text/plain": [
       "8"
      ]
     },
     "execution_count": 27,
     "metadata": {},
     "output_type": "execute_result"
    }
   ],
   "source": [
    "2 ** 3"
   ]
  },
  {
   "cell_type": "code",
   "execution_count": 28,
   "id": "b07fa644",
   "metadata": {},
   "outputs": [],
   "source": [
    "a = np.arange(1, 11, 1)"
   ]
  },
  {
   "cell_type": "code",
   "execution_count": 29,
   "id": "39563a7e",
   "metadata": {},
   "outputs": [],
   "source": [
    "b = np.array([1, 2, 1, 2, 1, 2, 1, 2, 1, 2])"
   ]
  },
  {
   "cell_type": "code",
   "execution_count": 30,
   "id": "b874c339",
   "metadata": {},
   "outputs": [
    {
     "data": {
      "text/plain": [
       "array([ 1,  2,  3,  4,  5,  6,  7,  8,  9, 10])"
      ]
     },
     "execution_count": 30,
     "metadata": {},
     "output_type": "execute_result"
    }
   ],
   "source": [
    "a"
   ]
  },
  {
   "cell_type": "code",
   "execution_count": 31,
   "id": "26899524",
   "metadata": {},
   "outputs": [
    {
     "data": {
      "text/plain": [
       "array([1, 2, 1, 2, 1, 2, 1, 2, 1, 2])"
      ]
     },
     "execution_count": 31,
     "metadata": {},
     "output_type": "execute_result"
    }
   ],
   "source": [
    "b"
   ]
  },
  {
   "cell_type": "code",
   "execution_count": 32,
   "id": "cd0635bd",
   "metadata": {},
   "outputs": [
    {
     "data": {
      "text/plain": [
       "array([  1,   4,   3,  16,   5,  36,   7,  64,   9, 100], dtype=int32)"
      ]
     },
     "execution_count": 32,
     "metadata": {},
     "output_type": "execute_result"
    }
   ],
   "source": [
    "np.power(a, b)"
   ]
  },
  {
   "cell_type": "code",
   "execution_count": 33,
   "id": "3c14ca2c",
   "metadata": {},
   "outputs": [
    {
     "data": {
      "text/plain": [
       "array([  1,   4,   3,  16,   5,  36,   7,  64,   9, 100], dtype=int32)"
      ]
     },
     "execution_count": 33,
     "metadata": {},
     "output_type": "execute_result"
    }
   ],
   "source": [
    "a ** b"
   ]
  },
  {
   "cell_type": "code",
   "execution_count": 34,
   "id": "cac61461",
   "metadata": {},
   "outputs": [
    {
     "data": {
      "text/plain": [
       "1.4142135623730951"
      ]
     },
     "execution_count": 34,
     "metadata": {},
     "output_type": "execute_result"
    }
   ],
   "source": [
    "np.sqrt(2)"
   ]
  },
  {
   "cell_type": "code",
   "execution_count": 35,
   "id": "bafc9924",
   "metadata": {},
   "outputs": [
    {
     "data": {
      "text/plain": [
       "array([1.        , 1.41421356, 1.73205081, 2.        , 2.23606798,\n",
       "       2.44948974, 2.64575131, 2.82842712, 3.        , 3.16227766])"
      ]
     },
     "execution_count": 35,
     "metadata": {},
     "output_type": "execute_result"
    }
   ],
   "source": [
    "np.sqrt(a)"
   ]
  },
  {
   "cell_type": "code",
   "execution_count": 36,
   "id": "e73f7e2b",
   "metadata": {},
   "outputs": [
    {
     "data": {
      "text/plain": [
       "0.0"
      ]
     },
     "execution_count": 36,
     "metadata": {},
     "output_type": "execute_result"
    }
   ],
   "source": [
    "np.sin(0)"
   ]
  },
  {
   "cell_type": "code",
   "execution_count": 37,
   "id": "4f362a96",
   "metadata": {},
   "outputs": [
    {
     "data": {
      "text/plain": [
       "1.0"
      ]
     },
     "execution_count": 37,
     "metadata": {},
     "output_type": "execute_result"
    }
   ],
   "source": [
    "np.cos(0)"
   ]
  },
  {
   "cell_type": "code",
   "execution_count": 38,
   "id": "04cd0817",
   "metadata": {},
   "outputs": [
    {
     "data": {
      "text/plain": [
       "0.0"
      ]
     },
     "execution_count": 38,
     "metadata": {},
     "output_type": "execute_result"
    }
   ],
   "source": [
    "np.tan(0)"
   ]
  },
  {
   "cell_type": "code",
   "execution_count": 39,
   "id": "8bef895a",
   "metadata": {},
   "outputs": [
    {
     "data": {
      "text/plain": [
       "1.0"
      ]
     },
     "execution_count": 39,
     "metadata": {},
     "output_type": "execute_result"
    }
   ],
   "source": [
    "np.sin(np.pi * 0.5)"
   ]
  },
  {
   "cell_type": "code",
   "execution_count": 40,
   "id": "d077476a",
   "metadata": {},
   "outputs": [
    {
     "data": {
      "text/plain": [
       "6.123233995736766e-17"
      ]
     },
     "execution_count": 40,
     "metadata": {},
     "output_type": "execute_result"
    }
   ],
   "source": [
    "np.cos(np.pi * 0.5)"
   ]
  },
  {
   "cell_type": "code",
   "execution_count": 41,
   "id": "620ca18b",
   "metadata": {},
   "outputs": [
    {
     "data": {
      "text/plain": [
       "1.633123935319537e+16"
      ]
     },
     "execution_count": 41,
     "metadata": {},
     "output_type": "execute_result"
    }
   ],
   "source": [
    "np.tan(np.pi * 0.5)"
   ]
  },
  {
   "cell_type": "code",
   "execution_count": 42,
   "id": "ae83ec2b",
   "metadata": {},
   "outputs": [
    {
     "data": {
      "text/plain": [
       "0.5235987755982989"
      ]
     },
     "execution_count": 42,
     "metadata": {},
     "output_type": "execute_result"
    }
   ],
   "source": [
    "np.arcsin(0.5)"
   ]
  },
  {
   "cell_type": "code",
   "execution_count": 43,
   "id": "9dbd657a",
   "metadata": {},
   "outputs": [
    {
     "data": {
      "text/plain": [
       "1.0471975511965979"
      ]
     },
     "execution_count": 43,
     "metadata": {},
     "output_type": "execute_result"
    }
   ],
   "source": [
    "np.arccos(0.5)"
   ]
  },
  {
   "cell_type": "code",
   "execution_count": 44,
   "id": "a97f075a",
   "metadata": {},
   "outputs": [
    {
     "data": {
      "text/plain": [
       "0.7853981633974483"
      ]
     },
     "execution_count": 44,
     "metadata": {},
     "output_type": "execute_result"
    }
   ],
   "source": [
    "np.arctan(1)"
   ]
  },
  {
   "cell_type": "code",
   "execution_count": 45,
   "id": "55c8ea15",
   "metadata": {},
   "outputs": [
    {
     "data": {
      "text/plain": [
       "-1.5707963267948966"
      ]
     },
     "execution_count": 45,
     "metadata": {},
     "output_type": "execute_result"
    }
   ],
   "source": [
    "np.arcsin(-1)"
   ]
  },
  {
   "cell_type": "code",
   "execution_count": 46,
   "id": "be4fe66c",
   "metadata": {},
   "outputs": [
    {
     "data": {
      "text/plain": [
       "3.141592653589793"
      ]
     },
     "execution_count": 46,
     "metadata": {},
     "output_type": "execute_result"
    }
   ],
   "source": [
    "np.arccos(-1)"
   ]
  },
  {
   "cell_type": "code",
   "execution_count": 47,
   "id": "126ef969",
   "metadata": {},
   "outputs": [
    {
     "data": {
      "text/plain": [
       "-0.4636476090008061"
      ]
     },
     "execution_count": 47,
     "metadata": {},
     "output_type": "execute_result"
    }
   ],
   "source": [
    "np.arctan(-0.5)"
   ]
  },
  {
   "cell_type": "code",
   "execution_count": 48,
   "id": "b8cc1f2a",
   "metadata": {},
   "outputs": [
    {
     "data": {
      "text/plain": [
       "2.0943951023931953"
      ]
     },
     "execution_count": 48,
     "metadata": {},
     "output_type": "execute_result"
    }
   ],
   "source": [
    "np.deg2rad(120)"
   ]
  },
  {
   "cell_type": "code",
   "execution_count": 49,
   "id": "c6d9dbb0",
   "metadata": {},
   "outputs": [
    {
     "data": {
      "text/plain": [
       "180.0"
      ]
     },
     "execution_count": 49,
     "metadata": {},
     "output_type": "execute_result"
    }
   ],
   "source": [
    "np.rad2deg(3.141592653589793)"
   ]
  },
  {
   "cell_type": "code",
   "execution_count": 50,
   "id": "209d049a",
   "metadata": {},
   "outputs": [
    {
     "data": {
      "text/plain": [
       "2.718281828459045"
      ]
     },
     "execution_count": 50,
     "metadata": {},
     "output_type": "execute_result"
    }
   ],
   "source": [
    "np.exp(1)"
   ]
  },
  {
   "cell_type": "code",
   "execution_count": 51,
   "id": "01891895",
   "metadata": {},
   "outputs": [
    {
     "data": {
      "text/plain": [
       "7.38905609893065"
      ]
     },
     "execution_count": 51,
     "metadata": {},
     "output_type": "execute_result"
    }
   ],
   "source": [
    "np.exp(2)"
   ]
  },
  {
   "cell_type": "code",
   "execution_count": 52,
   "id": "002b7d2c",
   "metadata": {},
   "outputs": [
    {
     "data": {
      "text/plain": [
       "1.0"
      ]
     },
     "execution_count": 52,
     "metadata": {},
     "output_type": "execute_result"
    }
   ],
   "source": [
    "np.exp(0)"
   ]
  },
  {
   "cell_type": "code",
   "execution_count": 53,
   "id": "70afd3d9",
   "metadata": {},
   "outputs": [
    {
     "data": {
      "text/plain": [
       "1.0"
      ]
     },
     "execution_count": 53,
     "metadata": {},
     "output_type": "execute_result"
    }
   ],
   "source": [
    "np.log(np.e)"
   ]
  },
  {
   "cell_type": "code",
   "execution_count": 54,
   "id": "48e20bf5",
   "metadata": {},
   "outputs": [],
   "source": [
    "a = np.array([1., 2., np.e ** 2, 10])"
   ]
  },
  {
   "cell_type": "code",
   "execution_count": 55,
   "id": "470e7efb",
   "metadata": {},
   "outputs": [
    {
     "data": {
      "text/plain": [
       "array([0.        , 0.69314718, 2.        , 2.30258509])"
      ]
     },
     "execution_count": 55,
     "metadata": {},
     "output_type": "execute_result"
    }
   ],
   "source": [
    "np.log(a)"
   ]
  },
  {
   "cell_type": "code",
   "execution_count": 56,
   "id": "980de0fe",
   "metadata": {},
   "outputs": [],
   "source": [
    "b = np.array([1., 2., 4., 7])"
   ]
  },
  {
   "cell_type": "code",
   "execution_count": 57,
   "id": "34a66102",
   "metadata": {},
   "outputs": [
    {
     "data": {
      "text/plain": [
       "array([0.        , 1.        , 2.        , 2.80735492])"
      ]
     },
     "execution_count": 57,
     "metadata": {},
     "output_type": "execute_result"
    }
   ],
   "source": [
    "np.log2(b)"
   ]
  },
  {
   "cell_type": "code",
   "execution_count": 58,
   "id": "8f5fdbe7",
   "metadata": {},
   "outputs": [],
   "source": [
    "c = np.array([1., 10., 20., 100.])"
   ]
  },
  {
   "cell_type": "code",
   "execution_count": 59,
   "id": "b99a2182",
   "metadata": {},
   "outputs": [
    {
     "data": {
      "text/plain": [
       "array([0.     , 1.     , 1.30103, 2.     ])"
      ]
     },
     "execution_count": 59,
     "metadata": {},
     "output_type": "execute_result"
    }
   ],
   "source": [
    "np.log10(c)"
   ]
  },
  {
   "cell_type": "code",
   "execution_count": 60,
   "id": "a3d76230",
   "metadata": {},
   "outputs": [
    {
     "data": {
      "text/plain": [
       "array([0.69314718, 1.09861229, 2.12692801, 2.39789527])"
      ]
     },
     "execution_count": 60,
     "metadata": {},
     "output_type": "execute_result"
    }
   ],
   "source": [
    "np.log1p(a)"
   ]
  },
  {
   "cell_type": "code",
   "execution_count": 61,
   "id": "82cdf139",
   "metadata": {},
   "outputs": [
    {
     "data": {
      "text/plain": [
       "0.5"
      ]
     },
     "execution_count": 61,
     "metadata": {},
     "output_type": "execute_result"
    }
   ],
   "source": [
    "np.log(2) / np.log(4)"
   ]
  },
  {
   "cell_type": "code",
   "execution_count": 62,
   "id": "750d09dc",
   "metadata": {},
   "outputs": [
    {
     "data": {
      "text/plain": [
       "2.0"
      ]
     },
     "execution_count": 62,
     "metadata": {},
     "output_type": "execute_result"
    }
   ],
   "source": [
    "np.log(9) / np.log(3)"
   ]
  },
  {
   "cell_type": "code",
   "execution_count": 63,
   "id": "08e67b7e",
   "metadata": {},
   "outputs": [
    {
     "data": {
      "text/plain": [
       "3.6268604078470186"
      ]
     },
     "execution_count": 63,
     "metadata": {},
     "output_type": "execute_result"
    }
   ],
   "source": [
    "np.sinh(2)"
   ]
  },
  {
   "cell_type": "code",
   "execution_count": 64,
   "id": "d3ca32d1",
   "metadata": {},
   "outputs": [
    {
     "data": {
      "text/plain": [
       "3.7621956910836314"
      ]
     },
     "execution_count": 64,
     "metadata": {},
     "output_type": "execute_result"
    }
   ],
   "source": [
    "np.cosh(2)"
   ]
  },
  {
   "cell_type": "code",
   "execution_count": 65,
   "id": "5fd8af40",
   "metadata": {},
   "outputs": [
    {
     "data": {
      "text/plain": [
       "0.9640275800758169"
      ]
     },
     "execution_count": 65,
     "metadata": {},
     "output_type": "execute_result"
    }
   ],
   "source": [
    "np.tanh(2)"
   ]
  },
  {
   "cell_type": "code",
   "execution_count": 66,
   "id": "819eaf3d",
   "metadata": {},
   "outputs": [
    {
     "data": {
      "text/plain": [
       "0.0"
      ]
     },
     "execution_count": 66,
     "metadata": {},
     "output_type": "execute_result"
    }
   ],
   "source": [
    "np.arccosh(1)"
   ]
  },
  {
   "cell_type": "code",
   "execution_count": 67,
   "id": "70606c3d",
   "metadata": {},
   "outputs": [
    {
     "data": {
      "text/plain": [
       "0.8673005276940532"
      ]
     },
     "execution_count": 67,
     "metadata": {},
     "output_type": "execute_result"
    }
   ],
   "source": [
    "np.arctanh(0.7)"
   ]
  },
  {
   "cell_type": "code",
   "execution_count": 68,
   "id": "e1dd0b2b",
   "metadata": {},
   "outputs": [],
   "source": [
    "a = np.array([-1.8, -1.4, -1.0, -0.6, -0.2, 0., 0.2, 0.6, 1.0, 1.4, 1.0])"
   ]
  },
  {
   "cell_type": "code",
   "execution_count": 69,
   "id": "c40e224d",
   "metadata": {},
   "outputs": [
    {
     "data": {
      "text/plain": [
       "array([-2., -2., -1., -1., -1.,  0.,  0.,  0.,  1.,  1.,  1.])"
      ]
     },
     "execution_count": 69,
     "metadata": {},
     "output_type": "execute_result"
    }
   ],
   "source": [
    "np.floor(a)"
   ]
  },
  {
   "cell_type": "code",
   "execution_count": 70,
   "id": "86425082",
   "metadata": {},
   "outputs": [
    {
     "data": {
      "text/plain": [
       "array([-1., -1., -1., -0., -0.,  0.,  0.,  0.,  1.,  1.,  1.])"
      ]
     },
     "execution_count": 70,
     "metadata": {},
     "output_type": "execute_result"
    }
   ],
   "source": [
    "np.trunc(a)"
   ]
  },
  {
   "cell_type": "code",
   "execution_count": 71,
   "id": "59f68e45",
   "metadata": {},
   "outputs": [
    {
     "data": {
      "text/plain": [
       "array([-1., -1., -1., -0., -0.,  0.,  1.,  1.,  1.,  2.,  1.])"
      ]
     },
     "execution_count": 71,
     "metadata": {},
     "output_type": "execute_result"
    }
   ],
   "source": [
    "np.ceil(a)"
   ]
  },
  {
   "cell_type": "code",
   "execution_count": 72,
   "id": "8e7add02",
   "metadata": {},
   "outputs": [
    {
     "data": {
      "text/plain": [
       "array([-2., -1., -1., -1., -0.,  0.,  0.,  1.,  1.,  1.,  1.])"
      ]
     },
     "execution_count": 72,
     "metadata": {},
     "output_type": "execute_result"
    }
   ],
   "source": [
    "np.round(a)"
   ]
  },
  {
   "cell_type": "code",
   "execution_count": 73,
   "id": "a3dcf82c",
   "metadata": {},
   "outputs": [
    {
     "data": {
      "text/plain": [
       "array([-2., -1., -1., -1., -0.,  0.,  0.,  1.,  1.,  1.,  1.])"
      ]
     },
     "execution_count": 73,
     "metadata": {},
     "output_type": "execute_result"
    }
   ],
   "source": [
    "np.around(a)"
   ]
  },
  {
   "cell_type": "code",
   "execution_count": 74,
   "id": "69c0a6b8",
   "metadata": {},
   "outputs": [
    {
     "data": {
      "text/plain": [
       "array([-2., -1., -1., -1., -0.,  0.,  0.,  1.,  1.,  1.,  1.])"
      ]
     },
     "execution_count": 74,
     "metadata": {},
     "output_type": "execute_result"
    }
   ],
   "source": [
    "np.rint(a)"
   ]
  },
  {
   "cell_type": "code",
   "execution_count": 75,
   "id": "d6fcbab5",
   "metadata": {},
   "outputs": [
    {
     "data": {
      "text/plain": [
       "array([-1., -1., -1., -0., -0.,  0.,  0.,  0.,  1.,  1.,  1.])"
      ]
     },
     "execution_count": 75,
     "metadata": {},
     "output_type": "execute_result"
    }
   ],
   "source": [
    "np.fix(a)"
   ]
  },
  {
   "cell_type": "code",
   "execution_count": 76,
   "id": "c2457f43",
   "metadata": {},
   "outputs": [],
   "source": [
    "a = -2.5"
   ]
  },
  {
   "cell_type": "code",
   "execution_count": 77,
   "id": "f1225845",
   "metadata": {},
   "outputs": [
    {
     "data": {
      "text/plain": [
       "2.5"
      ]
     },
     "execution_count": 77,
     "metadata": {},
     "output_type": "execute_result"
    }
   ],
   "source": [
    "np.absolute(a)"
   ]
  },
  {
   "cell_type": "code",
   "execution_count": 78,
   "id": "769cac34",
   "metadata": {},
   "outputs": [
    {
     "data": {
      "text/plain": [
       "2.5"
      ]
     },
     "execution_count": 78,
     "metadata": {},
     "output_type": "execute_result"
    }
   ],
   "source": [
    "np.fabs(a)"
   ]
  },
  {
   "cell_type": "code",
   "execution_count": 79,
   "id": "bfd1bf0e",
   "metadata": {},
   "outputs": [],
   "source": [
    "b = -2 + 3j"
   ]
  },
  {
   "cell_type": "code",
   "execution_count": 80,
   "id": "5277dbf5",
   "metadata": {},
   "outputs": [
    {
     "data": {
      "text/plain": [
       "3.605551275463989"
      ]
     },
     "execution_count": 80,
     "metadata": {},
     "output_type": "execute_result"
    }
   ],
   "source": [
    "np.abs(b)"
   ]
  },
  {
   "cell_type": "code",
   "execution_count": 81,
   "id": "3ee5cb70",
   "metadata": {},
   "outputs": [
    {
     "ename": "TypeError",
     "evalue": "ufunc 'fabs' not supported for the input types, and the inputs could not be safely coerced to any supported types according to the casting rule ''safe''",
     "output_type": "error",
     "traceback": [
      "\u001b[1;31m---------------------------------------------------------------------------\u001b[0m",
      "\u001b[1;31mTypeError\u001b[0m                                 Traceback (most recent call last)",
      "\u001b[1;32m<ipython-input-81-c20f8a6e42b8>\u001b[0m in \u001b[0;36m<module>\u001b[1;34m\u001b[0m\n\u001b[1;32m----> 1\u001b[1;33m \u001b[0mnp\u001b[0m\u001b[1;33m.\u001b[0m\u001b[0mfabs\u001b[0m\u001b[1;33m(\u001b[0m\u001b[0mb\u001b[0m\u001b[1;33m)\u001b[0m\u001b[1;33m\u001b[0m\u001b[1;33m\u001b[0m\u001b[0m\n\u001b[0m",
      "\u001b[1;31mTypeError\u001b[0m: ufunc 'fabs' not supported for the input types, and the inputs could not be safely coerced to any supported types according to the casting rule ''safe''"
     ]
    }
   ],
   "source": [
    "np.fabs(b)"
   ]
  },
  {
   "cell_type": "code",
   "execution_count": 82,
   "id": "79da85f2",
   "metadata": {},
   "outputs": [],
   "source": [
    "a = np.array([33, 44, 54, 23, 25, 55, 32, 76])"
   ]
  },
  {
   "cell_type": "code",
   "execution_count": 83,
   "id": "0639fbdf",
   "metadata": {},
   "outputs": [
    {
     "data": {
      "text/plain": [
       "42.75"
      ]
     },
     "execution_count": 83,
     "metadata": {},
     "output_type": "execute_result"
    }
   ],
   "source": [
    "np.average(a)"
   ]
  },
  {
   "cell_type": "code",
   "execution_count": 84,
   "id": "4667a2e3",
   "metadata": {},
   "outputs": [],
   "source": [
    "a = a.reshape(2, 4)"
   ]
  },
  {
   "cell_type": "code",
   "execution_count": 85,
   "id": "7f09e6e4",
   "metadata": {},
   "outputs": [
    {
     "data": {
      "text/plain": [
       "array([[33, 44, 54, 23],\n",
       "       [25, 55, 32, 76]])"
      ]
     },
     "execution_count": 85,
     "metadata": {},
     "output_type": "execute_result"
    }
   ],
   "source": [
    "a"
   ]
  },
  {
   "cell_type": "code",
   "execution_count": 86,
   "id": "daf9c707",
   "metadata": {},
   "outputs": [
    {
     "data": {
      "text/plain": [
       "42.75"
      ]
     },
     "execution_count": 86,
     "metadata": {},
     "output_type": "execute_result"
    }
   ],
   "source": [
    "np.average(a)"
   ]
  },
  {
   "cell_type": "code",
   "execution_count": 87,
   "id": "03959770",
   "metadata": {},
   "outputs": [
    {
     "data": {
      "text/plain": [
       "array([29. , 49.5, 43. , 49.5])"
      ]
     },
     "execution_count": 87,
     "metadata": {},
     "output_type": "execute_result"
    }
   ],
   "source": [
    "np.average(a, axis = 0)"
   ]
  },
  {
   "cell_type": "code",
   "execution_count": 88,
   "id": "e3e75ad9",
   "metadata": {},
   "outputs": [
    {
     "data": {
      "text/plain": [
       "array([38.5, 47. ])"
      ]
     },
     "execution_count": 88,
     "metadata": {},
     "output_type": "execute_result"
    }
   ],
   "source": [
    "np.average(a, axis = 1)"
   ]
  },
  {
   "cell_type": "code",
   "execution_count": 89,
   "id": "8b886bcf",
   "metadata": {},
   "outputs": [],
   "source": [
    "b = np.random.rand(24).reshape(2, 3, 4)"
   ]
  },
  {
   "cell_type": "code",
   "execution_count": 90,
   "id": "3372a943",
   "metadata": {},
   "outputs": [
    {
     "data": {
      "text/plain": [
       "array([[[0.45005364, 0.46787194, 0.03093144, 0.07858611],\n",
       "        [0.37975327, 0.91386702, 0.8745063 , 0.30820281],\n",
       "        [0.8894136 , 0.70983851, 0.46752856, 0.211431  ]],\n",
       "\n",
       "       [[0.53072393, 0.67745222, 0.57843398, 0.20775482],\n",
       "        [0.55175827, 0.41733961, 0.05411712, 0.67878454],\n",
       "        [0.81231234, 0.06675824, 0.61001431, 0.83560214]]])"
      ]
     },
     "execution_count": 90,
     "metadata": {},
     "output_type": "execute_result"
    }
   ],
   "source": [
    "b"
   ]
  },
  {
   "cell_type": "code",
   "execution_count": 91,
   "id": "e6142ea7",
   "metadata": {},
   "outputs": [
    {
     "data": {
      "text/plain": [
       "array([[0.49038878, 0.57266208, 0.30468271, 0.14317047],\n",
       "       [0.46575577, 0.66560332, 0.46431171, 0.49349367],\n",
       "       [0.85086297, 0.38829837, 0.53877144, 0.52351657]])"
      ]
     },
     "execution_count": 91,
     "metadata": {},
     "output_type": "execute_result"
    }
   ],
   "source": [
    "np.average(b, axis = 0)"
   ]
  },
  {
   "cell_type": "code",
   "execution_count": 92,
   "id": "38242fc7",
   "metadata": {},
   "outputs": [
    {
     "data": {
      "text/plain": [
       "array([[0.5730735 , 0.69719249, 0.45765543, 0.19940664],\n",
       "       [0.63159818, 0.38718335, 0.41418847, 0.57404717]])"
      ]
     },
     "execution_count": 92,
     "metadata": {},
     "output_type": "execute_result"
    }
   ],
   "source": [
    "np.average(b, axis = 1)"
   ]
  },
  {
   "cell_type": "code",
   "execution_count": 93,
   "id": "a0b15592",
   "metadata": {},
   "outputs": [
    {
     "data": {
      "text/plain": [
       "array([[0.25686078, 0.61908235, 0.56955292],\n",
       "       [0.49859124, 0.42549989, 0.58117176]])"
      ]
     },
     "execution_count": 93,
     "metadata": {},
     "output_type": "execute_result"
    }
   ],
   "source": [
    "np.average(b, axis = 2)"
   ]
  },
  {
   "cell_type": "code",
   "execution_count": 94,
   "id": "772a0f05",
   "metadata": {},
   "outputs": [],
   "source": [
    "a = a.flatten()"
   ]
  },
  {
   "cell_type": "code",
   "execution_count": 95,
   "id": "9500d47d",
   "metadata": {},
   "outputs": [
    {
     "data": {
      "text/plain": [
       "array([33, 44, 54, 23, 25, 55, 32, 76])"
      ]
     },
     "execution_count": 95,
     "metadata": {},
     "output_type": "execute_result"
    }
   ],
   "source": [
    "a"
   ]
  },
  {
   "cell_type": "code",
   "execution_count": 96,
   "id": "a5f0198a",
   "metadata": {},
   "outputs": [],
   "source": [
    "w = np.array([0.1, 0.05, 0.2, 0.0, 0.0, 0.4, 0.2, 0.05])"
   ]
  },
  {
   "cell_type": "code",
   "execution_count": 97,
   "id": "8bcd36de",
   "metadata": {},
   "outputs": [
    {
     "data": {
      "text/plain": [
       "48.5"
      ]
     },
     "execution_count": 97,
     "metadata": {},
     "output_type": "execute_result"
    }
   ],
   "source": [
    "np.average(a, weights = w)"
   ]
  },
  {
   "cell_type": "code",
   "execution_count": 98,
   "id": "77a1696c",
   "metadata": {},
   "outputs": [],
   "source": [
    "w2 = np.array([0.2, 0.8])"
   ]
  },
  {
   "cell_type": "code",
   "execution_count": 99,
   "id": "3ae894b6",
   "metadata": {},
   "outputs": [],
   "source": [
    "a = a.reshape(2, 4)"
   ]
  },
  {
   "cell_type": "code",
   "execution_count": 100,
   "id": "67b6ddc2",
   "metadata": {},
   "outputs": [
    {
     "data": {
      "text/plain": [
       "array([[33, 44, 54, 23],\n",
       "       [25, 55, 32, 76]])"
      ]
     },
     "execution_count": 100,
     "metadata": {},
     "output_type": "execute_result"
    }
   ],
   "source": [
    "a"
   ]
  },
  {
   "cell_type": "code",
   "execution_count": 101,
   "id": "02045c32",
   "metadata": {},
   "outputs": [
    {
     "data": {
      "text/plain": [
       "array([26.6, 52.8, 36.4, 65.4])"
      ]
     },
     "execution_count": 101,
     "metadata": {},
     "output_type": "execute_result"
    }
   ],
   "source": [
    "np.average(a, axis = 0, weights = w2)"
   ]
  },
  {
   "cell_type": "code",
   "execution_count": 102,
   "id": "841da17f",
   "metadata": {},
   "outputs": [
    {
     "data": {
      "text/plain": [
       "(42.75, 8.0)"
      ]
     },
     "execution_count": 102,
     "metadata": {},
     "output_type": "execute_result"
    }
   ],
   "source": [
    "np.average(a, returned = True)"
   ]
  },
  {
   "cell_type": "code",
   "execution_count": 103,
   "id": "38aa1066",
   "metadata": {},
   "outputs": [],
   "source": [
    "a = a.flatten()"
   ]
  },
  {
   "cell_type": "code",
   "execution_count": 104,
   "id": "f1c1d5b6",
   "metadata": {},
   "outputs": [
    {
     "data": {
      "text/plain": [
       "array([0.1 , 0.05, 0.2 , 0.  , 0.  , 0.4 , 0.2 , 0.05])"
      ]
     },
     "execution_count": 104,
     "metadata": {},
     "output_type": "execute_result"
    }
   ],
   "source": [
    "w"
   ]
  },
  {
   "cell_type": "code",
   "execution_count": 105,
   "id": "0c88908b",
   "metadata": {},
   "outputs": [
    {
     "data": {
      "text/plain": [
       "(48.5, 1.0)"
      ]
     },
     "execution_count": 105,
     "metadata": {},
     "output_type": "execute_result"
    }
   ],
   "source": [
    "np.average(a, weights = w, returned = True)"
   ]
  },
  {
   "cell_type": "code",
   "execution_count": 106,
   "id": "ae687ecb",
   "metadata": {},
   "outputs": [],
   "source": [
    "a = np.random.randint(0, 10, 20)"
   ]
  },
  {
   "cell_type": "code",
   "execution_count": 107,
   "id": "b9a463f0",
   "metadata": {},
   "outputs": [
    {
     "data": {
      "text/plain": [
       "array([5, 0, 3, 0, 7, 0, 5, 1, 3, 4, 9, 7, 6, 6, 1, 3, 3, 8, 7, 6])"
      ]
     },
     "execution_count": 107,
     "metadata": {},
     "output_type": "execute_result"
    }
   ],
   "source": [
    "a"
   ]
  },
  {
   "cell_type": "code",
   "execution_count": 108,
   "id": "830c8646",
   "metadata": {},
   "outputs": [
    {
     "data": {
      "text/plain": [
       "4.2"
      ]
     },
     "execution_count": 108,
     "metadata": {},
     "output_type": "execute_result"
    }
   ],
   "source": [
    "np.mean(a)"
   ]
  },
  {
   "cell_type": "code",
   "execution_count": 109,
   "id": "91564984",
   "metadata": {},
   "outputs": [
    {
     "data": {
      "text/plain": [
       "4.2"
      ]
     },
     "execution_count": 109,
     "metadata": {},
     "output_type": "execute_result"
    }
   ],
   "source": [
    "a.mean()"
   ]
  },
  {
   "cell_type": "code",
   "execution_count": 110,
   "id": "5169aa02",
   "metadata": {},
   "outputs": [],
   "source": [
    "b = a.reshape(4, 5)"
   ]
  },
  {
   "cell_type": "code",
   "execution_count": 111,
   "id": "d40ff786",
   "metadata": {},
   "outputs": [
    {
     "data": {
      "text/plain": [
       "array([[5, 0, 3, 0, 7],\n",
       "       [0, 5, 1, 3, 4],\n",
       "       [9, 7, 6, 6, 1],\n",
       "       [3, 3, 8, 7, 6]])"
      ]
     },
     "execution_count": 111,
     "metadata": {},
     "output_type": "execute_result"
    }
   ],
   "source": [
    "b"
   ]
  },
  {
   "cell_type": "code",
   "execution_count": 112,
   "id": "210aeefa",
   "metadata": {},
   "outputs": [
    {
     "data": {
      "text/plain": [
       "4.2"
      ]
     },
     "execution_count": 112,
     "metadata": {},
     "output_type": "execute_result"
    }
   ],
   "source": [
    "np.mean(b)"
   ]
  },
  {
   "cell_type": "code",
   "execution_count": 113,
   "id": "5929e2ec",
   "metadata": {},
   "outputs": [
    {
     "data": {
      "text/plain": [
       "4.2"
      ]
     },
     "execution_count": 113,
     "metadata": {},
     "output_type": "execute_result"
    }
   ],
   "source": [
    "b.mean()"
   ]
  },
  {
   "cell_type": "code",
   "execution_count": 114,
   "id": "282e3715",
   "metadata": {},
   "outputs": [
    {
     "data": {
      "text/plain": [
       "array([4.25, 3.75, 4.5 , 4.  , 4.5 ])"
      ]
     },
     "execution_count": 114,
     "metadata": {},
     "output_type": "execute_result"
    }
   ],
   "source": [
    "np.mean(b, axis = 0)"
   ]
  },
  {
   "cell_type": "code",
   "execution_count": 115,
   "id": "5c2a5dcf",
   "metadata": {},
   "outputs": [
    {
     "data": {
      "text/plain": [
       "array([3. , 2.6, 5.8, 5.4])"
      ]
     },
     "execution_count": 115,
     "metadata": {},
     "output_type": "execute_result"
    }
   ],
   "source": [
    "np.mean(b, axis = 1)"
   ]
  },
  {
   "cell_type": "code",
   "execution_count": 116,
   "id": "9681fb97",
   "metadata": {},
   "outputs": [],
   "source": [
    "c = np.random.rand(2, 3, 4)"
   ]
  },
  {
   "cell_type": "code",
   "execution_count": 117,
   "id": "2590867e",
   "metadata": {},
   "outputs": [
    {
     "data": {
      "text/plain": [
       "array([[[0.43386846, 0.06807533, 0.47461505, 0.96705463],\n",
       "        [0.62838007, 0.08614323, 0.3342081 , 0.75277988],\n",
       "        [0.78195281, 0.49656465, 0.38505469, 0.9906258 ]],\n",
       "\n",
       "       [[0.91140388, 0.45055324, 0.27769142, 0.71138088],\n",
       "        [0.04289117, 0.09760474, 0.18628008, 0.18935681],\n",
       "        [0.02616891, 0.6927592 , 0.64612758, 0.52645468]]])"
      ]
     },
     "execution_count": 117,
     "metadata": {},
     "output_type": "execute_result"
    }
   ],
   "source": [
    "c"
   ]
  },
  {
   "cell_type": "code",
   "execution_count": 118,
   "id": "ccdcc640",
   "metadata": {},
   "outputs": [
    {
     "data": {
      "text/plain": [
       "array([[0.67263617, 0.25931429, 0.37615324, 0.83921775],\n",
       "       [0.33563562, 0.09187398, 0.26024409, 0.47106834],\n",
       "       [0.40406086, 0.59466193, 0.51559113, 0.75854024]])"
      ]
     },
     "execution_count": 118,
     "metadata": {},
     "output_type": "execute_result"
    }
   ],
   "source": [
    "np.mean(c, axis = 0)"
   ]
  },
  {
   "cell_type": "code",
   "execution_count": 119,
   "id": "47a69392",
   "metadata": {},
   "outputs": [
    {
     "data": {
      "text/plain": [
       "array([[0.61473378, 0.21692774, 0.39795928, 0.90348677],\n",
       "       [0.32682132, 0.41363906, 0.37003303, 0.47573079]])"
      ]
     },
     "execution_count": 119,
     "metadata": {},
     "output_type": "execute_result"
    }
   ],
   "source": [
    "np.mean(c, axis = 1)"
   ]
  },
  {
   "cell_type": "code",
   "execution_count": 120,
   "id": "0d3867cf",
   "metadata": {},
   "outputs": [
    {
     "data": {
      "text/plain": [
       "array([[0.48590337, 0.45037782, 0.66354949],\n",
       "       [0.58775736, 0.1290332 , 0.47287759]])"
      ]
     },
     "execution_count": 120,
     "metadata": {},
     "output_type": "execute_result"
    }
   ],
   "source": [
    "np.mean(c, axis = 2)"
   ]
  },
  {
   "cell_type": "code",
   "execution_count": 121,
   "id": "2adb6005",
   "metadata": {},
   "outputs": [
    {
     "data": {
      "text/plain": [
       "array([[5, 0, 3, 0, 7],\n",
       "       [0, 5, 1, 3, 4],\n",
       "       [9, 7, 6, 6, 1],\n",
       "       [3, 3, 8, 7, 6]])"
      ]
     },
     "execution_count": 121,
     "metadata": {},
     "output_type": "execute_result"
    }
   ],
   "source": [
    "b"
   ]
  },
  {
   "cell_type": "code",
   "execution_count": 122,
   "id": "534d2b05",
   "metadata": {},
   "outputs": [],
   "source": [
    "e = np.mean(b, keepdims = True)"
   ]
  },
  {
   "cell_type": "code",
   "execution_count": 123,
   "id": "4df34f6a",
   "metadata": {},
   "outputs": [
    {
     "data": {
      "text/plain": [
       "array([[4.2]])"
      ]
     },
     "execution_count": 123,
     "metadata": {},
     "output_type": "execute_result"
    }
   ],
   "source": [
    "e"
   ]
  },
  {
   "cell_type": "code",
   "execution_count": 124,
   "id": "b7f37382",
   "metadata": {},
   "outputs": [
    {
     "data": {
      "text/plain": [
       "(1, 1)"
      ]
     },
     "execution_count": 124,
     "metadata": {},
     "output_type": "execute_result"
    }
   ],
   "source": [
    "e.shape"
   ]
  },
  {
   "cell_type": "code",
   "execution_count": 125,
   "id": "7bbb1a95",
   "metadata": {},
   "outputs": [],
   "source": [
    "f = np.mean(b, keepdims = False)"
   ]
  },
  {
   "cell_type": "code",
   "execution_count": 126,
   "id": "fced61cc",
   "metadata": {},
   "outputs": [
    {
     "data": {
      "text/plain": [
       "4.2"
      ]
     },
     "execution_count": 126,
     "metadata": {},
     "output_type": "execute_result"
    }
   ],
   "source": [
    "f"
   ]
  },
  {
   "cell_type": "code",
   "execution_count": 127,
   "id": "8c0aa928",
   "metadata": {},
   "outputs": [],
   "source": [
    "g = np.mean(b, axis = 1, keepdims = True)"
   ]
  },
  {
   "cell_type": "code",
   "execution_count": 128,
   "id": "ba953680",
   "metadata": {},
   "outputs": [
    {
     "data": {
      "text/plain": [
       "array([[3. ],\n",
       "       [2.6],\n",
       "       [5.8],\n",
       "       [5.4]])"
      ]
     },
     "execution_count": 128,
     "metadata": {},
     "output_type": "execute_result"
    }
   ],
   "source": [
    "g"
   ]
  },
  {
   "cell_type": "code",
   "execution_count": 129,
   "id": "895d7592",
   "metadata": {},
   "outputs": [
    {
     "data": {
      "text/plain": [
       "(4, 1)"
      ]
     },
     "execution_count": 129,
     "metadata": {},
     "output_type": "execute_result"
    }
   ],
   "source": [
    "g.shape"
   ]
  },
  {
   "cell_type": "code",
   "execution_count": 130,
   "id": "f7f1aed2",
   "metadata": {},
   "outputs": [],
   "source": [
    "h = np.mean(b, axis = 1, keepdims = False)"
   ]
  },
  {
   "cell_type": "code",
   "execution_count": 131,
   "id": "b3cf29ef",
   "metadata": {},
   "outputs": [
    {
     "data": {
      "text/plain": [
       "array([3. , 2.6, 5.8, 5.4])"
      ]
     },
     "execution_count": 131,
     "metadata": {},
     "output_type": "execute_result"
    }
   ],
   "source": [
    "h"
   ]
  },
  {
   "cell_type": "code",
   "execution_count": 132,
   "id": "9ee72523",
   "metadata": {},
   "outputs": [
    {
     "data": {
      "text/plain": [
       "(4,)"
      ]
     },
     "execution_count": 132,
     "metadata": {},
     "output_type": "execute_result"
    }
   ],
   "source": [
    "h.shape"
   ]
  },
  {
   "cell_type": "code",
   "execution_count": 133,
   "id": "82ec833c",
   "metadata": {},
   "outputs": [],
   "source": [
    "a = np.random.randint(100, size = (2, 3, 4))"
   ]
  },
  {
   "cell_type": "code",
   "execution_count": 134,
   "id": "40de4d0f",
   "metadata": {},
   "outputs": [
    {
     "data": {
      "text/plain": [
       "array([[[71, 10, 76,  7],\n",
       "        [74, 16, 47, 87],\n",
       "        [39, 79, 51,  8]],\n",
       "\n",
       "       [[70, 35, 88, 66],\n",
       "        [53, 27, 62, 23],\n",
       "        [62,  9, 61, 73]]])"
      ]
     },
     "execution_count": 134,
     "metadata": {},
     "output_type": "execute_result"
    }
   ],
   "source": [
    "a"
   ]
  },
  {
   "cell_type": "code",
   "execution_count": 135,
   "id": "1ed45f59",
   "metadata": {},
   "outputs": [
    {
     "data": {
      "text/plain": [
       "57.0"
      ]
     },
     "execution_count": 135,
     "metadata": {},
     "output_type": "execute_result"
    }
   ],
   "source": [
    "np.median(a)"
   ]
  },
  {
   "cell_type": "code",
   "execution_count": 136,
   "id": "3000a276",
   "metadata": {},
   "outputs": [
    {
     "data": {
      "text/plain": [
       "array([[40.5, 60.5, 45. ],\n",
       "       [68. , 40. , 61.5]])"
      ]
     },
     "execution_count": 136,
     "metadata": {},
     "output_type": "execute_result"
    }
   ],
   "source": [
    "np.median(a, axis = 2)"
   ]
  },
  {
   "cell_type": "code",
   "execution_count": 137,
   "id": "6fc46d40",
   "metadata": {},
   "outputs": [
    {
     "data": {
      "text/plain": [
       "array([[71., 16., 51.,  8.],\n",
       "       [62., 27., 62., 66.]])"
      ]
     },
     "execution_count": 137,
     "metadata": {},
     "output_type": "execute_result"
    }
   ],
   "source": [
    "np.median(a, axis = 1)"
   ]
  },
  {
   "cell_type": "code",
   "execution_count": 138,
   "id": "411d6967",
   "metadata": {},
   "outputs": [],
   "source": [
    "b = a.copy()"
   ]
  },
  {
   "cell_type": "code",
   "execution_count": 139,
   "id": "fa095c54",
   "metadata": {},
   "outputs": [
    {
     "data": {
      "text/plain": [
       "array([[[71, 10, 76,  7],\n",
       "        [74, 16, 47, 87],\n",
       "        [39, 79, 51,  8]],\n",
       "\n",
       "       [[70, 35, 88, 66],\n",
       "        [53, 27, 62, 23],\n",
       "        [62,  9, 61, 73]]])"
      ]
     },
     "execution_count": 139,
     "metadata": {},
     "output_type": "execute_result"
    }
   ],
   "source": [
    "b"
   ]
  },
  {
   "cell_type": "code",
   "execution_count": 140,
   "id": "f75fd1d4",
   "metadata": {},
   "outputs": [
    {
     "data": {
      "text/plain": [
       "array([[[71, 10, 76,  7],\n",
       "        [74, 16, 47, 87],\n",
       "        [39, 79, 51,  8]],\n",
       "\n",
       "       [[70, 35, 88, 66],\n",
       "        [53, 27, 62, 23],\n",
       "        [62,  9, 61, 73]]])"
      ]
     },
     "execution_count": 140,
     "metadata": {},
     "output_type": "execute_result"
    }
   ],
   "source": [
    "a"
   ]
  },
  {
   "cell_type": "code",
   "execution_count": 141,
   "id": "e6e5fc10",
   "metadata": {},
   "outputs": [
    {
     "data": {
      "text/plain": [
       "array([[71., 16., 51.,  8.],\n",
       "       [62., 27., 62., 66.]])"
      ]
     },
     "execution_count": 141,
     "metadata": {},
     "output_type": "execute_result"
    }
   ],
   "source": [
    "np.median(b, axis = 1, overwrite_input = True)"
   ]
  },
  {
   "cell_type": "code",
   "execution_count": 142,
   "id": "94e1a4fd",
   "metadata": {},
   "outputs": [
    {
     "data": {
      "text/plain": [
       "False"
      ]
     },
     "execution_count": 142,
     "metadata": {},
     "output_type": "execute_result"
    }
   ],
   "source": [
    "np.all( a == b)"
   ]
  },
  {
   "cell_type": "code",
   "execution_count": 143,
   "id": "1be031c8",
   "metadata": {},
   "outputs": [
    {
     "data": {
      "text/plain": [
       "array([[[71, 10, 76,  7],\n",
       "        [74, 16, 47, 87],\n",
       "        [39, 79, 51,  8]],\n",
       "\n",
       "       [[70, 35, 88, 66],\n",
       "        [53, 27, 62, 23],\n",
       "        [62,  9, 61, 73]]])"
      ]
     },
     "execution_count": 143,
     "metadata": {},
     "output_type": "execute_result"
    }
   ],
   "source": [
    "a"
   ]
  },
  {
   "cell_type": "code",
   "execution_count": 144,
   "id": "fb4b9ffb",
   "metadata": {},
   "outputs": [
    {
     "data": {
      "text/plain": [
       "array([[[39, 10, 47,  7],\n",
       "        [71, 16, 51,  8],\n",
       "        [74, 79, 76, 87]],\n",
       "\n",
       "       [[53,  9, 61, 23],\n",
       "        [62, 27, 62, 66],\n",
       "        [70, 35, 88, 73]]])"
      ]
     },
     "execution_count": 144,
     "metadata": {},
     "output_type": "execute_result"
    }
   ],
   "source": [
    "b"
   ]
  },
  {
   "cell_type": "code",
   "execution_count": 145,
   "id": "519773a9",
   "metadata": {},
   "outputs": [],
   "source": [
    "b = a.copy()"
   ]
  },
  {
   "cell_type": "code",
   "execution_count": 146,
   "id": "bddf1641",
   "metadata": {},
   "outputs": [
    {
     "name": "stdout",
     "output_type": "stream",
     "text": [
      "22.5 µs ± 66.5 ns per loop (mean ± std. dev. of 7 runs, 10000 loops each)\n"
     ]
    }
   ],
   "source": [
    "%timeit np.median(a, axis = 1)"
   ]
  },
  {
   "cell_type": "code",
   "execution_count": 147,
   "id": "620b4253",
   "metadata": {},
   "outputs": [
    {
     "name": "stdout",
     "output_type": "stream",
     "text": [
      "20 µs ± 64.3 ns per loop (mean ± std. dev. of 7 runs, 10000 loops each)\n"
     ]
    }
   ],
   "source": [
    "%timeit np.median(a, axis = 1, overwrite_input = True)"
   ]
  },
  {
   "cell_type": "code",
   "execution_count": 148,
   "id": "f6805cfa",
   "metadata": {},
   "outputs": [
    {
     "data": {
      "text/plain": [
       "array([[[46. ,  9.5, 54. , 15. ],\n",
       "        [66.5, 21.5, 56.5, 37. ],\n",
       "        [72. , 57. , 82. , 80. ]]])"
      ]
     },
     "execution_count": 148,
     "metadata": {},
     "output_type": "execute_result"
    }
   ],
   "source": [
    "np.median(a, axis = 0, keepdims = True)"
   ]
  },
  {
   "cell_type": "code",
   "execution_count": 149,
   "id": "a85da838",
   "metadata": {},
   "outputs": [
    {
     "data": {
      "text/plain": [
       "array([[[71., 16., 51.,  8.]],\n",
       "\n",
       "       [[62., 27., 62., 66.]]])"
      ]
     },
     "execution_count": 149,
     "metadata": {},
     "output_type": "execute_result"
    }
   ],
   "source": [
    "np.median(a, axis = 1, keepdims =True)"
   ]
  },
  {
   "cell_type": "code",
   "execution_count": 150,
   "id": "f8a1a3e1",
   "metadata": {},
   "outputs": [
    {
     "data": {
      "text/plain": [
       "array([[71., 16., 51.,  8.],\n",
       "       [62., 27., 62., 66.]])"
      ]
     },
     "execution_count": 150,
     "metadata": {},
     "output_type": "execute_result"
    }
   ],
   "source": [
    "np.median(a, axis = 1, keepdims =False)"
   ]
  },
  {
   "cell_type": "code",
   "execution_count": 152,
   "id": "fcb29d90",
   "metadata": {},
   "outputs": [],
   "source": [
    "a = np.random.randint(0, 10, size = (2, 5))"
   ]
  },
  {
   "cell_type": "code",
   "execution_count": 153,
   "id": "1625c0d6",
   "metadata": {},
   "outputs": [
    {
     "data": {
      "text/plain": [
       "array([[7, 0, 6, 4, 9],\n",
       "       [1, 5, 6, 3, 8]])"
      ]
     },
     "execution_count": 153,
     "metadata": {},
     "output_type": "execute_result"
    }
   ],
   "source": [
    "a"
   ]
  },
  {
   "cell_type": "code",
   "execution_count": 154,
   "id": "9032609d",
   "metadata": {},
   "outputs": [
    {
     "data": {
      "text/plain": [
       "49"
      ]
     },
     "execution_count": 154,
     "metadata": {},
     "output_type": "execute_result"
    }
   ],
   "source": [
    "np.sum(a)"
   ]
  },
  {
   "cell_type": "code",
   "execution_count": 155,
   "id": "17089bf0",
   "metadata": {},
   "outputs": [],
   "source": [
    "b = np.array([2, 4, 1, 6])"
   ]
  },
  {
   "cell_type": "code",
   "execution_count": 156,
   "id": "458ec46d",
   "metadata": {},
   "outputs": [
    {
     "data": {
      "text/plain": [
       "13"
      ]
     },
     "execution_count": 156,
     "metadata": {},
     "output_type": "execute_result"
    }
   ],
   "source": [
    "np.sum(b)"
   ]
  },
  {
   "cell_type": "code",
   "execution_count": 157,
   "id": "c865e62d",
   "metadata": {},
   "outputs": [],
   "source": [
    "c = np.random.randint(0, 10, size = (2, 4, 5))"
   ]
  },
  {
   "cell_type": "code",
   "execution_count": 158,
   "id": "bd555b5e",
   "metadata": {},
   "outputs": [
    {
     "data": {
      "text/plain": [
       "array([[[7, 8, 9, 6, 8],\n",
       "        [0, 2, 6, 8, 9],\n",
       "        [8, 0, 3, 8, 4],\n",
       "        [0, 1, 7, 8, 5]],\n",
       "\n",
       "       [[5, 3, 7, 2, 9],\n",
       "        [9, 1, 5, 3, 6],\n",
       "        [4, 1, 0, 2, 8],\n",
       "        [2, 8, 7, 8, 5]]])"
      ]
     },
     "execution_count": 158,
     "metadata": {},
     "output_type": "execute_result"
    }
   ],
   "source": [
    "c"
   ]
  },
  {
   "cell_type": "code",
   "execution_count": 159,
   "id": "f6b7f886",
   "metadata": {},
   "outputs": [
    {
     "data": {
      "text/plain": [
       "202"
      ]
     },
     "execution_count": 159,
     "metadata": {},
     "output_type": "execute_result"
    }
   ],
   "source": [
    "np.sum(c)"
   ]
  },
  {
   "cell_type": "code",
   "execution_count": 160,
   "id": "8d499e10",
   "metadata": {},
   "outputs": [
    {
     "data": {
      "text/plain": [
       "array([[7, 0, 6, 4, 9],\n",
       "       [1, 5, 6, 3, 8]])"
      ]
     },
     "execution_count": 160,
     "metadata": {},
     "output_type": "execute_result"
    }
   ],
   "source": [
    "a"
   ]
  },
  {
   "cell_type": "code",
   "execution_count": 161,
   "id": "0e249123",
   "metadata": {},
   "outputs": [
    {
     "data": {
      "text/plain": [
       "array([ 8,  5, 12,  7, 17])"
      ]
     },
     "execution_count": 161,
     "metadata": {},
     "output_type": "execute_result"
    }
   ],
   "source": [
    "np.sum(a, axis = 0)"
   ]
  },
  {
   "cell_type": "code",
   "execution_count": 162,
   "id": "7c2cae8f",
   "metadata": {},
   "outputs": [
    {
     "data": {
      "text/plain": [
       "array([26, 23])"
      ]
     },
     "execution_count": 162,
     "metadata": {},
     "output_type": "execute_result"
    }
   ],
   "source": [
    "np.sum(a, axis = 1)"
   ]
  },
  {
   "cell_type": "code",
   "execution_count": 163,
   "id": "23fadad5",
   "metadata": {},
   "outputs": [
    {
     "data": {
      "text/plain": [
       "array([[[7, 8, 9, 6, 8],\n",
       "        [0, 2, 6, 8, 9],\n",
       "        [8, 0, 3, 8, 4],\n",
       "        [0, 1, 7, 8, 5]],\n",
       "\n",
       "       [[5, 3, 7, 2, 9],\n",
       "        [9, 1, 5, 3, 6],\n",
       "        [4, 1, 0, 2, 8],\n",
       "        [2, 8, 7, 8, 5]]])"
      ]
     },
     "execution_count": 163,
     "metadata": {},
     "output_type": "execute_result"
    }
   ],
   "source": [
    "c"
   ]
  },
  {
   "cell_type": "code",
   "execution_count": 164,
   "id": "ec0fb1d8",
   "metadata": {},
   "outputs": [
    {
     "data": {
      "text/plain": [
       "array([[12, 11, 16,  8, 17],\n",
       "       [ 9,  3, 11, 11, 15],\n",
       "       [12,  1,  3, 10, 12],\n",
       "       [ 2,  9, 14, 16, 10]])"
      ]
     },
     "execution_count": 164,
     "metadata": {},
     "output_type": "execute_result"
    }
   ],
   "source": [
    "np.sum(c, axis = 0)"
   ]
  },
  {
   "cell_type": "code",
   "execution_count": 165,
   "id": "fceddfde",
   "metadata": {},
   "outputs": [
    {
     "data": {
      "text/plain": [
       "array([[15, 11, 25, 30, 26],\n",
       "       [20, 13, 19, 15, 28]])"
      ]
     },
     "execution_count": 165,
     "metadata": {},
     "output_type": "execute_result"
    }
   ],
   "source": [
    "np.sum(c, axis = 1)"
   ]
  },
  {
   "cell_type": "code",
   "execution_count": 166,
   "id": "0b2ff007",
   "metadata": {},
   "outputs": [
    {
     "data": {
      "text/plain": [
       "array([[38, 25, 23, 21],\n",
       "       [26, 24, 15, 30]])"
      ]
     },
     "execution_count": 166,
     "metadata": {},
     "output_type": "execute_result"
    }
   ],
   "source": [
    "np.sum(c, axis = 2)"
   ]
  },
  {
   "cell_type": "code",
   "execution_count": 167,
   "id": "44559c68",
   "metadata": {},
   "outputs": [
    {
     "data": {
      "text/plain": [
       "array([[[12, 11, 16,  8, 17],\n",
       "        [ 9,  3, 11, 11, 15],\n",
       "        [12,  1,  3, 10, 12],\n",
       "        [ 2,  9, 14, 16, 10]]])"
      ]
     },
     "execution_count": 167,
     "metadata": {},
     "output_type": "execute_result"
    }
   ],
   "source": [
    "np.sum(c, axis =0, keepdims =True)"
   ]
  },
  {
   "cell_type": "code",
   "execution_count": 168,
   "id": "b116bf08",
   "metadata": {},
   "outputs": [
    {
     "data": {
      "text/plain": [
       "array([[[15, 11, 25, 30, 26]],\n",
       "\n",
       "       [[20, 13, 19, 15, 28]]])"
      ]
     },
     "execution_count": 168,
     "metadata": {},
     "output_type": "execute_result"
    }
   ],
   "source": [
    "np.sum(c, axis = 1, keepdims = True)"
   ]
  },
  {
   "cell_type": "code",
   "execution_count": 170,
   "id": "b04e2c45",
   "metadata": {},
   "outputs": [
    {
     "data": {
      "text/plain": [
       "array([[[38],\n",
       "        [25],\n",
       "        [23],\n",
       "        [21]],\n",
       "\n",
       "       [[26],\n",
       "        [24],\n",
       "        [15],\n",
       "        [30]]])"
      ]
     },
     "execution_count": 170,
     "metadata": {},
     "output_type": "execute_result"
    }
   ],
   "source": [
    "np.sum(c, axis = 2, keepdims = True)"
   ]
  },
  {
   "cell_type": "code",
   "execution_count": 177,
   "id": "ede232d2",
   "metadata": {},
   "outputs": [],
   "source": [
    "a = np.random.rand(10000000)"
   ]
  },
  {
   "cell_type": "code",
   "execution_count": 178,
   "id": "559fa916",
   "metadata": {},
   "outputs": [
    {
     "data": {
      "text/plain": [
       "0.2886499239917034"
      ]
     },
     "execution_count": 178,
     "metadata": {},
     "output_type": "execute_result"
    }
   ],
   "source": [
    "np.std(a)"
   ]
  },
  {
   "cell_type": "code",
   "execution_count": 179,
   "id": "359dda86",
   "metadata": {},
   "outputs": [],
   "source": [
    "b = np.random.rand(2, 3, 4)"
   ]
  },
  {
   "cell_type": "code",
   "execution_count": 180,
   "id": "2e80b14d",
   "metadata": {},
   "outputs": [
    {
     "data": {
      "text/plain": [
       "array([[[0.75535576, 0.9357228 , 0.08505798, 0.4081349 ],\n",
       "        [0.739375  , 0.14837952, 0.42617129, 0.21925694],\n",
       "        [0.09878446, 0.61005269, 0.66513858, 0.19836017]],\n",
       "\n",
       "       [[0.39213765, 0.38435107, 0.91250281, 0.2554332 ],\n",
       "        [0.79226828, 0.88866443, 0.30889879, 0.35033033],\n",
       "        [0.96653866, 0.19861415, 0.24966915, 0.72168532]]])"
      ]
     },
     "execution_count": 180,
     "metadata": {},
     "output_type": "execute_result"
    }
   ],
   "source": [
    "b"
   ]
  },
  {
   "cell_type": "code",
   "execution_count": 181,
   "id": "4df8ca47",
   "metadata": {},
   "outputs": [
    {
     "data": {
      "text/plain": [
       "array([[0.18160905, 0.27568586, 0.41372241, 0.07635085],\n",
       "       [0.02644664, 0.37014246, 0.05863625, 0.06553669],\n",
       "       [0.4338771 , 0.20571927, 0.20773472, 0.26166257]])"
      ]
     },
     "execution_count": 181,
     "metadata": {},
     "output_type": "execute_result"
    }
   ],
   "source": [
    "np.std(b, axis = 0)"
   ]
  },
  {
   "cell_type": "code",
   "execution_count": 182,
   "id": "ce320cab",
   "metadata": {},
   "outputs": [
    {
     "data": {
      "text/plain": [
       "0.2857319027815485"
      ]
     },
     "execution_count": 182,
     "metadata": {},
     "output_type": "execute_result"
    }
   ],
   "source": [
    "np.std(b)"
   ]
  },
  {
   "cell_type": "code",
   "execution_count": 183,
   "id": "06ad896f",
   "metadata": {},
   "outputs": [
    {
     "data": {
      "text/plain": [
       "0.2918773779467004"
      ]
     },
     "execution_count": 183,
     "metadata": {},
     "output_type": "execute_result"
    }
   ],
   "source": [
    "np.std(b, ddof = 1)"
   ]
  },
  {
   "cell_type": "code",
   "execution_count": 184,
   "id": "1fd3a8da",
   "metadata": {},
   "outputs": [],
   "source": [
    "a = np.array([10, 20, 12, 0, 3, 5])"
   ]
  },
  {
   "cell_type": "code",
   "execution_count": 185,
   "id": "a2d78267",
   "metadata": {},
   "outputs": [
    {
     "data": {
      "text/plain": [
       "43.55555555555555"
      ]
     },
     "execution_count": 185,
     "metadata": {},
     "output_type": "execute_result"
    }
   ],
   "source": [
    "np.var(a)"
   ]
  },
  {
   "cell_type": "code",
   "execution_count": null,
   "id": "2e0a71ab",
   "metadata": {},
   "outputs": [],
   "source": []
  }
 ],
 "metadata": {
  "kernelspec": {
   "display_name": "Python 3",
   "language": "python",
   "name": "python3"
  },
  "language_info": {
   "codemirror_mode": {
    "name": "ipython",
    "version": 3
   },
   "file_extension": ".py",
   "mimetype": "text/x-python",
   "name": "python",
   "nbconvert_exporter": "python",
   "pygments_lexer": "ipython3",
   "version": "3.8.8"
  }
 },
 "nbformat": 4,
 "nbformat_minor": 5
}
