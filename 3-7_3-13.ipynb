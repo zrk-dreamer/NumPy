{
 "cells": [
  {
   "cell_type": "code",
   "execution_count": 2,
   "id": "ccaadd73",
   "metadata": {},
   "outputs": [],
   "source": [
    "import numpy as np"
   ]
  },
  {
   "cell_type": "code",
   "execution_count": 4,
   "id": "fc9dab37",
   "metadata": {},
   "outputs": [],
   "source": [
    "a = np.array([[10, 5, 2, 4, 9, 3, 2], [10, 2, 8, 3, 7, 4, 1]])"
   ]
  },
  {
   "cell_type": "code",
   "execution_count": 5,
   "id": "1f729c3d",
   "metadata": {},
   "outputs": [
    {
     "data": {
      "text/plain": [
       "array([[10.66666667,  6.66666667],\n",
       "       [ 6.66666667, 11.33333333]])"
      ]
     },
     "execution_count": 5,
     "metadata": {},
     "output_type": "execute_result"
    }
   ],
   "source": [
    "np.cov(a)"
   ]
  },
  {
   "cell_type": "code",
   "execution_count": 6,
   "id": "0c54116b",
   "metadata": {},
   "outputs": [],
   "source": [
    "c = np.array([3, 2, 1, 5, 7, 2, 1])"
   ]
  },
  {
   "cell_type": "code",
   "execution_count": 7,
   "id": "a6cb90ba",
   "metadata": {},
   "outputs": [
    {
     "data": {
      "text/plain": [
       "array([[10.66666667,  6.66666667,  4.66666667],\n",
       "       [ 6.66666667, 11.33333333,  1.66666667],\n",
       "       [ 4.66666667,  1.66666667,  5.        ]])"
      ]
     },
     "execution_count": 7,
     "metadata": {},
     "output_type": "execute_result"
    }
   ],
   "source": [
    "np.cov(a, c)"
   ]
  },
  {
   "cell_type": "code",
   "execution_count": 8,
   "id": "c2fdbe39",
   "metadata": {},
   "outputs": [
    {
     "data": {
      "text/plain": [
       "array([[10.66666667,  6.66666667],\n",
       "       [ 6.66666667, 11.33333333]])"
      ]
     },
     "execution_count": 8,
     "metadata": {},
     "output_type": "execute_result"
    }
   ],
   "source": [
    "np.cov(a, bias = False)"
   ]
  },
  {
   "cell_type": "code",
   "execution_count": 9,
   "id": "63afb283",
   "metadata": {},
   "outputs": [
    {
     "data": {
      "text/plain": [
       "array([[9.14285714, 5.71428571],\n",
       "       [5.71428571, 9.71428571]])"
      ]
     },
     "execution_count": 9,
     "metadata": {},
     "output_type": "execute_result"
    }
   ],
   "source": [
    "np.cov(a, bias = True)"
   ]
  },
  {
   "cell_type": "code",
   "execution_count": 10,
   "id": "9f299585",
   "metadata": {},
   "outputs": [
    {
     "data": {
      "text/plain": [
       "array([[10.66666667,  6.66666667],\n",
       "       [ 6.66666667, 11.33333333]])"
      ]
     },
     "execution_count": 10,
     "metadata": {},
     "output_type": "execute_result"
    }
   ],
   "source": [
    "np.cov(a, ddof = None)"
   ]
  },
  {
   "cell_type": "code",
   "execution_count": 11,
   "id": "31e0edc9",
   "metadata": {},
   "outputs": [
    {
     "data": {
      "text/plain": [
       "array([[10.66666667,  6.66666667],\n",
       "       [ 6.66666667, 11.33333333]])"
      ]
     },
     "execution_count": 11,
     "metadata": {},
     "output_type": "execute_result"
    }
   ],
   "source": [
    "np.cov(a, ddof = 1)"
   ]
  },
  {
   "cell_type": "code",
   "execution_count": 12,
   "id": "d7a669a9",
   "metadata": {},
   "outputs": [
    {
     "data": {
      "text/plain": [
       "array([[9.14285714, 5.71428571],\n",
       "       [5.71428571, 9.71428571]])"
      ]
     },
     "execution_count": 12,
     "metadata": {},
     "output_type": "execute_result"
    }
   ],
   "source": [
    "np.cov(a, ddof = 0)"
   ]
  },
  {
   "cell_type": "code",
   "execution_count": 13,
   "id": "8f758960",
   "metadata": {},
   "outputs": [
    {
     "data": {
      "text/plain": [
       "array([[10,  5,  2,  4,  9,  3,  2],\n",
       "       [10,  2,  8,  3,  7,  4,  1]])"
      ]
     },
     "execution_count": 13,
     "metadata": {},
     "output_type": "execute_result"
    }
   ],
   "source": [
    "a"
   ]
  },
  {
   "cell_type": "code",
   "execution_count": 15,
   "id": "5224951d",
   "metadata": {},
   "outputs": [],
   "source": [
    "fweights = np.array([1, 2, 2, 1, 1, 1, 1])"
   ]
  },
  {
   "cell_type": "code",
   "execution_count": 16,
   "id": "53e31f12",
   "metadata": {},
   "outputs": [
    {
     "data": {
      "text/plain": [
       "array([[ 9.   ,  3.875],\n",
       "       [ 3.875, 10.75 ]])"
      ]
     },
     "execution_count": 16,
     "metadata": {},
     "output_type": "execute_result"
    }
   ],
   "source": [
    "np.cov(a, fweights = fweights)"
   ]
  },
  {
   "cell_type": "code",
   "execution_count": 17,
   "id": "1e76c671",
   "metadata": {},
   "outputs": [],
   "source": [
    "aweights = np.array([0.1, 0.2, 0.2, 0.2, 0.1, 0.1, 0.1])"
   ]
  },
  {
   "cell_type": "code",
   "execution_count": 18,
   "id": "b79365e2",
   "metadata": {},
   "outputs": [
    {
     "data": {
      "text/plain": [
       "array([[ 8.61904762,  3.83333333],\n",
       "       [ 3.83333333, 10.66666667]])"
      ]
     },
     "execution_count": 18,
     "metadata": {},
     "output_type": "execute_result"
    }
   ],
   "source": [
    "np.cov(a, aweights = aweights)"
   ]
  },
  {
   "cell_type": "code",
   "execution_count": 19,
   "id": "3f010265",
   "metadata": {},
   "outputs": [
    {
     "data": {
      "text/plain": [
       "array([[10.66666667,  6.66666667],\n",
       "       [ 6.66666667, 11.33333333]])"
      ]
     },
     "execution_count": 19,
     "metadata": {},
     "output_type": "execute_result"
    }
   ],
   "source": [
    "np.cov(a, aweights = None)"
   ]
  },
  {
   "cell_type": "code",
   "execution_count": 20,
   "id": "0bca9df7",
   "metadata": {},
   "outputs": [],
   "source": [
    "x = np.array([[1, 2, 1, 9, 10, 3, 2, 6, 7], [2, 1, 8, 3, 7, 5, 10, 7, 2]])"
   ]
  },
  {
   "cell_type": "code",
   "execution_count": 21,
   "id": "055ea42c",
   "metadata": {},
   "outputs": [
    {
     "data": {
      "text/plain": [
       "array([[ 1.        , -0.05640533],\n",
       "       [-0.05640533,  1.        ]])"
      ]
     },
     "execution_count": 21,
     "metadata": {},
     "output_type": "execute_result"
    }
   ],
   "source": [
    "np.corrcoef(x)"
   ]
  },
  {
   "cell_type": "code",
   "execution_count": 22,
   "id": "7c0509c8",
   "metadata": {},
   "outputs": [],
   "source": [
    "y = np.array([2, 1, 1, 8, 9, 4, 3, 5, 7])"
   ]
  },
  {
   "cell_type": "code",
   "execution_count": 24,
   "id": "8f0dfc70",
   "metadata": {},
   "outputs": [
    {
     "data": {
      "text/plain": [
       "array([[ 1.        , -0.05640533,  0.97094584],\n",
       "       [-0.05640533,  1.        , -0.01315587],\n",
       "       [ 0.97094584, -0.01315587,  1.        ]])"
      ]
     },
     "execution_count": 24,
     "metadata": {},
     "output_type": "execute_result"
    }
   ],
   "source": [
    "np.corrcoef(x, y)"
   ]
  },
  {
   "cell_type": "code",
   "execution_count": 25,
   "id": "f8882120",
   "metadata": {},
   "outputs": [
    {
     "data": {
      "text/plain": [
       "array([[ 1., -1.,  1., -1., -1.,  1.,  1.,  1., -1.],\n",
       "       [-1.,  1., -1.,  1.,  1., -1., -1., -1.,  1.],\n",
       "       [ 1., -1.,  1., -1., -1.,  1.,  1.,  1., -1.],\n",
       "       [-1.,  1., -1.,  1.,  1., -1., -1., -1.,  1.],\n",
       "       [-1.,  1., -1.,  1.,  1., -1., -1., -1.,  1.],\n",
       "       [ 1., -1.,  1., -1., -1.,  1.,  1.,  1., -1.],\n",
       "       [ 1., -1.,  1., -1., -1.,  1.,  1.,  1., -1.],\n",
       "       [ 1., -1.,  1., -1., -1.,  1.,  1.,  1., -1.],\n",
       "       [-1.,  1., -1.,  1.,  1., -1., -1., -1.,  1.]])"
      ]
     },
     "execution_count": 25,
     "metadata": {},
     "output_type": "execute_result"
    }
   ],
   "source": [
    "np.corrcoef(x, rowvar = False)"
   ]
  },
  {
   "cell_type": "code",
   "execution_count": 26,
   "id": "a9dce19e",
   "metadata": {},
   "outputs": [],
   "source": [
    "x_transpose = x.T"
   ]
  },
  {
   "cell_type": "code",
   "execution_count": 27,
   "id": "48b719ab",
   "metadata": {},
   "outputs": [
    {
     "data": {
      "text/plain": [
       "array([[ 1.        , -0.05640533],\n",
       "       [-0.05640533,  1.        ]])"
      ]
     },
     "execution_count": 27,
     "metadata": {},
     "output_type": "execute_result"
    }
   ],
   "source": [
    "np.corrcoef(x_transpose, rowvar = False)"
   ]
  },
  {
   "cell_type": "code",
   "execution_count": 29,
   "id": "b6a03990",
   "metadata": {},
   "outputs": [
    {
     "data": {
      "text/plain": [
       "array([[ 1., -1.,  1., -1., -1.,  1.,  1.,  1., -1.],\n",
       "       [-1.,  1., -1.,  1.,  1., -1., -1., -1.,  1.],\n",
       "       [ 1., -1.,  1., -1., -1.,  1.,  1.,  1., -1.],\n",
       "       [-1.,  1., -1.,  1.,  1., -1., -1., -1.,  1.],\n",
       "       [-1.,  1., -1.,  1.,  1., -1., -1., -1.,  1.],\n",
       "       [ 1., -1.,  1., -1., -1.,  1.,  1.,  1., -1.],\n",
       "       [ 1., -1.,  1., -1., -1.,  1.,  1.,  1., -1.],\n",
       "       [ 1., -1.,  1., -1., -1.,  1.,  1.,  1., -1.],\n",
       "       [-1.,  1., -1.,  1.,  1., -1., -1., -1.,  1.]])"
      ]
     },
     "execution_count": 29,
     "metadata": {},
     "output_type": "execute_result"
    }
   ],
   "source": [
    "np.corrcoef(x_transpose, rowvar = True)"
   ]
  },
  {
   "cell_type": "code",
   "execution_count": 30,
   "id": "f3b94f18",
   "metadata": {},
   "outputs": [],
   "source": [
    "a = np.array([0, 1, 2])"
   ]
  },
  {
   "cell_type": "code",
   "execution_count": 31,
   "id": "8223b93f",
   "metadata": {},
   "outputs": [],
   "source": [
    "b = np.array([4, 0])"
   ]
  },
  {
   "cell_type": "code",
   "execution_count": 32,
   "id": "6b8f0a2c",
   "metadata": {},
   "outputs": [],
   "source": [
    "aa, bb = np.meshgrid(a, b)"
   ]
  },
  {
   "cell_type": "code",
   "execution_count": 33,
   "id": "15557fa7",
   "metadata": {},
   "outputs": [
    {
     "data": {
      "text/plain": [
       "array([[0, 1, 2],\n",
       "       [0, 1, 2]])"
      ]
     },
     "execution_count": 33,
     "metadata": {},
     "output_type": "execute_result"
    }
   ],
   "source": [
    "aa"
   ]
  },
  {
   "cell_type": "code",
   "execution_count": 34,
   "id": "17b381a2",
   "metadata": {},
   "outputs": [
    {
     "data": {
      "text/plain": [
       "array([[4, 4, 4],\n",
       "       [0, 0, 0]])"
      ]
     },
     "execution_count": 34,
     "metadata": {},
     "output_type": "execute_result"
    }
   ],
   "source": [
    "bb"
   ]
  },
  {
   "cell_type": "code",
   "execution_count": 35,
   "id": "45841217",
   "metadata": {},
   "outputs": [],
   "source": [
    "aa2, bb2 = np.meshgrid(a, b, indexing = \"xy\")"
   ]
  },
  {
   "cell_type": "code",
   "execution_count": 36,
   "id": "3019896f",
   "metadata": {},
   "outputs": [
    {
     "data": {
      "text/plain": [
       "array([[0, 1, 2],\n",
       "       [0, 1, 2]])"
      ]
     },
     "execution_count": 36,
     "metadata": {},
     "output_type": "execute_result"
    }
   ],
   "source": [
    "aa2"
   ]
  },
  {
   "cell_type": "code",
   "execution_count": 37,
   "id": "1279a06f",
   "metadata": {},
   "outputs": [
    {
     "data": {
      "text/plain": [
       "array([[4, 4, 4],\n",
       "       [0, 0, 0]])"
      ]
     },
     "execution_count": 37,
     "metadata": {},
     "output_type": "execute_result"
    }
   ],
   "source": [
    "bb2"
   ]
  },
  {
   "cell_type": "code",
   "execution_count": 39,
   "id": "4dcd0603",
   "metadata": {},
   "outputs": [],
   "source": [
    "aa3, bb3 = np.meshgrid(a, b, indexing = \"ij\")"
   ]
  },
  {
   "cell_type": "code",
   "execution_count": 40,
   "id": "2319b467",
   "metadata": {},
   "outputs": [
    {
     "data": {
      "text/plain": [
       "array([[0, 0],\n",
       "       [1, 1],\n",
       "       [2, 2]])"
      ]
     },
     "execution_count": 40,
     "metadata": {},
     "output_type": "execute_result"
    }
   ],
   "source": [
    "aa3"
   ]
  },
  {
   "cell_type": "code",
   "execution_count": 41,
   "id": "65965b34",
   "metadata": {},
   "outputs": [
    {
     "data": {
      "text/plain": [
       "array([[4, 0],\n",
       "       [4, 0],\n",
       "       [4, 0]])"
      ]
     },
     "execution_count": 41,
     "metadata": {},
     "output_type": "execute_result"
    }
   ],
   "source": [
    "bb3"
   ]
  },
  {
   "cell_type": "code",
   "execution_count": 42,
   "id": "2b141218",
   "metadata": {},
   "outputs": [],
   "source": [
    "av, bv = np.meshgrid(a, b, sparse = True)"
   ]
  },
  {
   "cell_type": "code",
   "execution_count": 44,
   "id": "6c1d0726",
   "metadata": {},
   "outputs": [
    {
     "data": {
      "text/plain": [
       "array([[0, 1, 2]])"
      ]
     },
     "execution_count": 44,
     "metadata": {},
     "output_type": "execute_result"
    }
   ],
   "source": [
    "av"
   ]
  },
  {
   "cell_type": "code",
   "execution_count": 45,
   "id": "104b5cda",
   "metadata": {},
   "outputs": [
    {
     "data": {
      "text/plain": [
       "array([[4],\n",
       "       [0]])"
      ]
     },
     "execution_count": 45,
     "metadata": {},
     "output_type": "execute_result"
    }
   ],
   "source": [
    "bv"
   ]
  },
  {
   "cell_type": "code",
   "execution_count": 46,
   "id": "e0ee8c86",
   "metadata": {},
   "outputs": [],
   "source": [
    "a = np.array([1, 2])"
   ]
  },
  {
   "cell_type": "code",
   "execution_count": 48,
   "id": "34af12ca",
   "metadata": {},
   "outputs": [],
   "source": [
    "b = np.array([4, 3])"
   ]
  },
  {
   "cell_type": "code",
   "execution_count": 49,
   "id": "50954f89",
   "metadata": {},
   "outputs": [
    {
     "data": {
      "text/plain": [
       "10"
      ]
     },
     "execution_count": 49,
     "metadata": {},
     "output_type": "execute_result"
    }
   ],
   "source": [
    "np.dot(a, b)"
   ]
  },
  {
   "cell_type": "code",
   "execution_count": 50,
   "id": "50eb2d5d",
   "metadata": {},
   "outputs": [
    {
     "data": {
      "text/plain": [
       "20"
      ]
     },
     "execution_count": 50,
     "metadata": {},
     "output_type": "execute_result"
    }
   ],
   "source": [
    "np.dot(4, 5)"
   ]
  },
  {
   "cell_type": "code",
   "execution_count": 51,
   "id": "45dcce44",
   "metadata": {},
   "outputs": [],
   "source": [
    "e = np.matrix([1, 2])"
   ]
  },
  {
   "cell_type": "code",
   "execution_count": 52,
   "id": "e8d6471c",
   "metadata": {},
   "outputs": [],
   "source": [
    "f = np.matrix([4, 3])"
   ]
  },
  {
   "cell_type": "code",
   "execution_count": 53,
   "id": "b27bc973",
   "metadata": {},
   "outputs": [
    {
     "ename": "ValueError",
     "evalue": "shapes (1,2) and (1,2) not aligned: 2 (dim 1) != 1 (dim 0)",
     "output_type": "error",
     "traceback": [
      "\u001b[1;31m---------------------------------------------------------------------------\u001b[0m",
      "\u001b[1;31mValueError\u001b[0m                                Traceback (most recent call last)",
      "\u001b[1;32m<ipython-input-53-661bff0f9639>\u001b[0m in \u001b[0;36m<module>\u001b[1;34m\u001b[0m\n\u001b[1;32m----> 1\u001b[1;33m \u001b[0mnp\u001b[0m\u001b[1;33m.\u001b[0m\u001b[0mdot\u001b[0m\u001b[1;33m(\u001b[0m\u001b[0me\u001b[0m\u001b[1;33m,\u001b[0m \u001b[0mf\u001b[0m\u001b[1;33m)\u001b[0m\u001b[1;33m\u001b[0m\u001b[1;33m\u001b[0m\u001b[0m\n\u001b[0m",
      "\u001b[1;32m<__array_function__ internals>\u001b[0m in \u001b[0;36mdot\u001b[1;34m(*args, **kwargs)\u001b[0m\n",
      "\u001b[1;31mValueError\u001b[0m: shapes (1,2) and (1,2) not aligned: 2 (dim 1) != 1 (dim 0)"
     ]
    }
   ],
   "source": [
    "np.dot(e, f)"
   ]
  },
  {
   "cell_type": "code",
   "execution_count": 54,
   "id": "864ef6b3",
   "metadata": {},
   "outputs": [],
   "source": [
    "f = np.matrix([[4], [3]])"
   ]
  },
  {
   "cell_type": "code",
   "execution_count": 55,
   "id": "6c97744c",
   "metadata": {},
   "outputs": [
    {
     "data": {
      "text/plain": [
       "matrix([[10]])"
      ]
     },
     "execution_count": 55,
     "metadata": {},
     "output_type": "execute_result"
    }
   ],
   "source": [
    "np.dot(e, f)"
   ]
  },
  {
   "cell_type": "code",
   "execution_count": 58,
   "id": "2581d7e0",
   "metadata": {},
   "outputs": [],
   "source": [
    "a = np.array([[1, 2], [3, 4]])"
   ]
  },
  {
   "cell_type": "code",
   "execution_count": 59,
   "id": "06922209",
   "metadata": {},
   "outputs": [],
   "source": [
    "b = ([[4, 3], [2, 1]])"
   ]
  },
  {
   "cell_type": "code",
   "execution_count": 60,
   "id": "ac1b72d1",
   "metadata": {},
   "outputs": [
    {
     "data": {
      "text/plain": [
       "array([[ 8,  5],\n",
       "       [20, 13]])"
      ]
     },
     "execution_count": 60,
     "metadata": {},
     "output_type": "execute_result"
    }
   ],
   "source": [
    "np.dot(a, b)"
   ]
  },
  {
   "cell_type": "code",
   "execution_count": 61,
   "id": "cb30f71e",
   "metadata": {},
   "outputs": [
    {
     "data": {
      "text/plain": [
       "array([[13, 20],\n",
       "       [ 5,  8]])"
      ]
     },
     "execution_count": 61,
     "metadata": {},
     "output_type": "execute_result"
    }
   ],
   "source": [
    "np.dot(b, a)"
   ]
  },
  {
   "cell_type": "code",
   "execution_count": 64,
   "id": "6fe1cce4",
   "metadata": {},
   "outputs": [],
   "source": [
    "c = np.arange(0, 9).reshape(3, 3)"
   ]
  },
  {
   "cell_type": "code",
   "execution_count": 66,
   "id": "60be7a12",
   "metadata": {},
   "outputs": [],
   "source": [
    "d = np.ones((3, 3))"
   ]
  },
  {
   "cell_type": "code",
   "execution_count": 67,
   "id": "937e6f4b",
   "metadata": {},
   "outputs": [
    {
     "data": {
      "text/plain": [
       "array([[ 3.,  3.,  3.],\n",
       "       [12., 12., 12.],\n",
       "       [21., 21., 21.]])"
      ]
     },
     "execution_count": 67,
     "metadata": {},
     "output_type": "execute_result"
    }
   ],
   "source": [
    "np.dot(c,d )"
   ]
  },
  {
   "cell_type": "code",
   "execution_count": 68,
   "id": "be87347b",
   "metadata": {},
   "outputs": [],
   "source": [
    "a = np.arange(12).reshape((4, 3))"
   ]
  },
  {
   "cell_type": "code",
   "execution_count": 69,
   "id": "7cb9aae4",
   "metadata": {},
   "outputs": [],
   "source": [
    "b = np.arange(16).reshape((4, 4))"
   ]
  },
  {
   "cell_type": "code",
   "execution_count": 70,
   "id": "ec182bcc",
   "metadata": {},
   "outputs": [
    {
     "ename": "ValueError",
     "evalue": "shapes (4,3) and (4,4) not aligned: 3 (dim 1) != 4 (dim 0)",
     "output_type": "error",
     "traceback": [
      "\u001b[1;31m---------------------------------------------------------------------------\u001b[0m",
      "\u001b[1;31mValueError\u001b[0m                                Traceback (most recent call last)",
      "\u001b[1;32m<ipython-input-70-c9cc415545b4>\u001b[0m in \u001b[0;36m<module>\u001b[1;34m\u001b[0m\n\u001b[1;32m----> 1\u001b[1;33m \u001b[0mnp\u001b[0m\u001b[1;33m.\u001b[0m\u001b[0mdot\u001b[0m\u001b[1;33m(\u001b[0m\u001b[0ma\u001b[0m\u001b[1;33m,\u001b[0m \u001b[0mb\u001b[0m\u001b[1;33m)\u001b[0m\u001b[1;33m\u001b[0m\u001b[1;33m\u001b[0m\u001b[0m\n\u001b[0m",
      "\u001b[1;32m<__array_function__ internals>\u001b[0m in \u001b[0;36mdot\u001b[1;34m(*args, **kwargs)\u001b[0m\n",
      "\u001b[1;31mValueError\u001b[0m: shapes (4,3) and (4,4) not aligned: 3 (dim 1) != 4 (dim 0)"
     ]
    }
   ],
   "source": [
    "np.dot(a, b)"
   ]
  },
  {
   "cell_type": "code",
   "execution_count": 71,
   "id": "96a7ad15",
   "metadata": {},
   "outputs": [],
   "source": [
    "e = np.matrix([[0, 1, 2], [3, 4, 5], [6, 7, 8]])"
   ]
  },
  {
   "cell_type": "code",
   "execution_count": 73,
   "id": "8dd95dbb",
   "metadata": {},
   "outputs": [],
   "source": [
    "f = np.matrix([[1, 1, 1], [1, 1, 1], [1, 1, 1]])"
   ]
  },
  {
   "cell_type": "code",
   "execution_count": 78,
   "id": "1616cbd6",
   "metadata": {},
   "outputs": [
    {
     "data": {
      "text/plain": [
       "matrix([[ 9., 12., 15.],\n",
       "        [ 9., 12., 15.],\n",
       "        [ 9., 12., 15.]])"
      ]
     },
     "execution_count": 78,
     "metadata": {},
     "output_type": "execute_result"
    }
   ],
   "source": [
    "np.dot(d, e)"
   ]
  },
  {
   "cell_type": "code",
   "execution_count": 79,
   "id": "f07b55c5",
   "metadata": {},
   "outputs": [],
   "source": [
    "import numpy.linalg as LA"
   ]
  },
  {
   "cell_type": "code",
   "execution_count": 80,
   "id": "16372628",
   "metadata": {},
   "outputs": [],
   "source": [
    "a = np.array([[2, 3], [4, -1]])"
   ]
  },
  {
   "cell_type": "code",
   "execution_count": 81,
   "id": "c23fc53e",
   "metadata": {},
   "outputs": [
    {
     "data": {
      "text/plain": [
       "array([[ 2,  3],\n",
       "       [ 4, -1]])"
      ]
     },
     "execution_count": 81,
     "metadata": {},
     "output_type": "execute_result"
    }
   ],
   "source": [
    "a"
   ]
  },
  {
   "cell_type": "code",
   "execution_count": 82,
   "id": "3896cf11",
   "metadata": {},
   "outputs": [
    {
     "data": {
      "text/plain": [
       "-14.000000000000004"
      ]
     },
     "execution_count": 82,
     "metadata": {},
     "output_type": "execute_result"
    }
   ],
   "source": [
    "LA.det(a)"
   ]
  },
  {
   "cell_type": "code",
   "execution_count": 83,
   "id": "c73f5886",
   "metadata": {},
   "outputs": [],
   "source": [
    "d = np.random.randint(-5, 6, size = (3, 3, 3))"
   ]
  },
  {
   "cell_type": "code",
   "execution_count": 84,
   "id": "b14ba0df",
   "metadata": {},
   "outputs": [
    {
     "data": {
      "text/plain": [
       "array([ 84., -17.,  19.])"
      ]
     },
     "execution_count": 84,
     "metadata": {},
     "output_type": "execute_result"
    }
   ],
   "source": [
    "LA.det(d)"
   ]
  },
  {
   "cell_type": "code",
   "execution_count": 85,
   "id": "2acdcf29",
   "metadata": {},
   "outputs": [],
   "source": [
    "a = np.array([[1, 0], [0, 2]])"
   ]
  },
  {
   "cell_type": "code",
   "execution_count": 86,
   "id": "b66e7505",
   "metadata": {},
   "outputs": [
    {
     "data": {
      "text/plain": [
       "array([[1, 0],\n",
       "       [0, 2]])"
      ]
     },
     "execution_count": 86,
     "metadata": {},
     "output_type": "execute_result"
    }
   ],
   "source": [
    "a"
   ]
  },
  {
   "cell_type": "code",
   "execution_count": 87,
   "id": "609e1874",
   "metadata": {},
   "outputs": [
    {
     "data": {
      "text/plain": [
       "(array([1., 2.]),\n",
       " array([[1., 0.],\n",
       "        [0., 1.]]))"
      ]
     },
     "execution_count": 87,
     "metadata": {},
     "output_type": "execute_result"
    }
   ],
   "source": [
    "LA.eig(a)"
   ]
  },
  {
   "cell_type": "code",
   "execution_count": 88,
   "id": "5b20a31d",
   "metadata": {},
   "outputs": [],
   "source": [
    "b = np.array([[2, 5], [3, -8]])"
   ]
  },
  {
   "cell_type": "code",
   "execution_count": 89,
   "id": "8f2fe19b",
   "metadata": {},
   "outputs": [
    {
     "data": {
      "text/plain": [
       "array([[ 2,  5],\n",
       "       [ 3, -8]])"
      ]
     },
     "execution_count": 89,
     "metadata": {},
     "output_type": "execute_result"
    }
   ],
   "source": [
    "b"
   ]
  },
  {
   "cell_type": "code",
   "execution_count": 90,
   "id": "1eb3832d",
   "metadata": {},
   "outputs": [
    {
     "data": {
      "text/plain": [
       "(array([ 3.32455532, -9.32455532]),\n",
       " array([[ 0.96665615, -0.40390206],\n",
       "        [ 0.25607791,  0.91480224]]))"
      ]
     },
     "execution_count": 90,
     "metadata": {},
     "output_type": "execute_result"
    }
   ],
   "source": [
    "LA.eig(b)"
   ]
  },
  {
   "cell_type": "code",
   "execution_count": 91,
   "id": "02b6610e",
   "metadata": {},
   "outputs": [],
   "source": [
    "c = np.random.randint(-10, 10, size = (3, 3))"
   ]
  },
  {
   "cell_type": "code",
   "execution_count": 92,
   "id": "d20b92bb",
   "metadata": {},
   "outputs": [],
   "source": [
    "w, v = LA.eig(c)"
   ]
  },
  {
   "cell_type": "code",
   "execution_count": 93,
   "id": "ab24f6a3",
   "metadata": {},
   "outputs": [
    {
     "data": {
      "text/plain": [
       "array([-12.52480396+0.j        ,   0.26240198+3.67480774j,\n",
       "         0.26240198-3.67480774j])"
      ]
     },
     "execution_count": 93,
     "metadata": {},
     "output_type": "execute_result"
    }
   ],
   "source": [
    "w"
   ]
  },
  {
   "cell_type": "code",
   "execution_count": 94,
   "id": "0fbbc466",
   "metadata": {},
   "outputs": [
    {
     "data": {
      "text/plain": [
       "array([[-0.79966816+0.j        , -0.26294025-0.25570999j,\n",
       "        -0.26294025+0.25570999j],\n",
       "       [ 0.38334794+0.j        ,  0.7682915 +0.j        ,\n",
       "         0.7682915 -0.j        ],\n",
       "       [-0.46214196+0.j        ,  0.28587492+0.43986194j,\n",
       "         0.28587492-0.43986194j]])"
      ]
     },
     "execution_count": 94,
     "metadata": {},
     "output_type": "execute_result"
    }
   ],
   "source": [
    "v"
   ]
  },
  {
   "cell_type": "code",
   "execution_count": 95,
   "id": "2041380d",
   "metadata": {},
   "outputs": [],
   "source": [
    "c = np.random.randint(-10, 10, size = (3, 3, 3))"
   ]
  },
  {
   "cell_type": "code",
   "execution_count": 96,
   "id": "eef66ae6",
   "metadata": {},
   "outputs": [],
   "source": [
    "w, v = LA.eig(c)"
   ]
  },
  {
   "cell_type": "code",
   "execution_count": 97,
   "id": "f71b95f9",
   "metadata": {},
   "outputs": [
    {
     "data": {
      "text/plain": [
       "array([[ 9.92476056+0.j        , -1.96238028+1.76107139j,\n",
       "        -1.96238028-1.76107139j],\n",
       "       [-1.73951467+0.j        , -2.13024267+6.78608057j,\n",
       "        -2.13024267-6.78608057j],\n",
       "       [ 4.74028795+7.0661456j ,  4.74028795-7.0661456j ,\n",
       "        -8.4805759 +0.j        ]])"
      ]
     },
     "execution_count": 97,
     "metadata": {},
     "output_type": "execute_result"
    }
   ],
   "source": [
    "w"
   ]
  },
  {
   "cell_type": "code",
   "execution_count": 100,
   "id": "e243508c",
   "metadata": {},
   "outputs": [
    {
     "data": {
      "text/plain": [
       "array([[[ 0.64906269+0.j        , -0.90203617+0.j        ,\n",
       "         -0.90203617-0.j        ],\n",
       "        [ 0.49787646+0.j        ,  0.01468363+0.23686998j,\n",
       "          0.01468363-0.23686998j],\n",
       "        [ 0.57518402+0.j        ,  0.09933546-0.3466125j ,\n",
       "          0.09933546+0.3466125j ]],\n",
       "\n",
       "       [[-0.91627271+0.j        ,  0.1986361 -0.21573441j,\n",
       "          0.1986361 +0.21573441j],\n",
       "        [-0.02241674+0.j        ,  0.25522323-0.58016199j,\n",
       "          0.25522323+0.58016199j],\n",
       "        [-0.39992726+0.j        ,  0.71573426+0.j        ,\n",
       "          0.71573426-0.j        ]],\n",
       "\n",
       "       [[ 0.348406  -0.50568433j,  0.348406  +0.50568433j,\n",
       "          0.28696434+0.j        ],\n",
       "        [-0.029807  -0.09508042j, -0.029807  +0.09508042j,\n",
       "          0.86501472+0.j        ],\n",
       "        [ 0.78292265+0.j        ,  0.78292265-0.j        ,\n",
       "          0.41158352+0.j        ]]])"
      ]
     },
     "execution_count": 100,
     "metadata": {},
     "output_type": "execute_result"
    }
   ],
   "source": [
    "v"
   ]
  },
  {
   "cell_type": "code",
   "execution_count": 101,
   "id": "2bd26919",
   "metadata": {},
   "outputs": [],
   "source": [
    "A = np.array([[1, 1, 4, 0, 1], [0, 3, 1, 3, 2], [1, 3, 0, 0, 1], [2, 4, 3, 1, 1]])"
   ]
  },
  {
   "cell_type": "code",
   "execution_count": 102,
   "id": "073349ec",
   "metadata": {},
   "outputs": [
    {
     "data": {
      "text/plain": [
       "4"
      ]
     },
     "execution_count": 102,
     "metadata": {},
     "output_type": "execute_result"
    }
   ],
   "source": [
    "LA.matrix_rank(A)"
   ]
  },
  {
   "cell_type": "code",
   "execution_count": 103,
   "id": "5e3813c3",
   "metadata": {},
   "outputs": [],
   "source": [
    "B = np.array([[1, 2, 3, 0], [2, 4, 6, 0], [1, 0, 1, 2], [1, 0, 0, 3]])"
   ]
  },
  {
   "cell_type": "code",
   "execution_count": 104,
   "id": "00f04c17",
   "metadata": {},
   "outputs": [
    {
     "data": {
      "text/plain": [
       "3"
      ]
     },
     "execution_count": 104,
     "metadata": {},
     "output_type": "execute_result"
    }
   ],
   "source": [
    "LA.matrix_rank(B)"
   ]
  },
  {
   "cell_type": "code",
   "execution_count": null,
   "id": "e5f37fa3",
   "metadata": {},
   "outputs": [],
   "source": []
  }
 ],
 "metadata": {
  "kernelspec": {
   "display_name": "Python 3",
   "language": "python",
   "name": "python3"
  },
  "language_info": {
   "codemirror_mode": {
    "name": "ipython",
    "version": 3
   },
   "file_extension": ".py",
   "mimetype": "text/x-python",
   "name": "python",
   "nbconvert_exporter": "python",
   "pygments_lexer": "ipython3",
   "version": "3.8.8"
  }
 },
 "nbformat": 4,
 "nbformat_minor": 5
}
